{
 "cells": [
  {
   "cell_type": "markdown",
   "source": [
    "# Team 6 Final Project\n",
    "Chaim Gross, Eytan Slotnik, Tomer Fried, Naftali Arnold\n",
    "## 11/01/2023"
   ],
   "metadata": {
    "collapsed": false
   }
  },
  {
   "cell_type": "markdown",
   "source": [
    "After going through the map which presents fires by their causes, and trying to create location-based features, we have gotten to see that:\n",
    "- The location-based features, which are based on data that latitude and longitude features already produce, do not improve accuracy significantly\n",
    "- The reason for that might be that latitude and longitude already explain their variance within them\n",
    "\n",
    "Therefore, we decided to swift our efforts to feature engineering which is based on data, that does not already apparent, but rather missing in the data, such as:\n",
    "- Social- Economic data, location based\n",
    "- Density of population, location based\n",
    "\n",
    "So as a start, we add these, using datasets in kaggle, which occur in the US at similar times:"
   ],
   "metadata": {
    "collapsed": false
   }
  },
  {
   "cell_type": "code",
   "execution_count": 2,
   "outputs": [],
   "source": [
    "import folium as folium\n",
    "import pandas as pd\n",
    "import sqlite3\n",
    "from sklearn.model_selection import train_test_split\n",
    "import numpy as np\n",
    "import seaborn as sns\n",
    "from sklearn.metrics import classification_report\n",
    "from sklearn.ensemble import RandomForestClassifier\n",
    "from sklearn.metrics import accuracy_score\n",
    "import rtree\n",
    "import haversine\n",
    "from sklearn import preprocessing\n",
    "import geopandas as gpd"
   ],
   "metadata": {
    "collapsed": false
   }
  },
  {
   "cell_type": "code",
   "execution_count": 3,
   "outputs": [],
   "source": [
    "def create_date_faetures(df):\n",
    "    \"\"\"\n",
    "    creates data features from YEAR and DOY.\n",
    "    create a new column of date which is calculated from FIRE_YEAR and DISCOVERY_DOY, and extract from there features\n",
    "    :param df: data\n",
    "    :return: a new dataframe containing only the features we added\n",
    "    \"\"\"\n",
    "    from pandas.tseries.holiday import USFederalHolidayCalendar as calendar\n",
    "\n",
    "    features = pd.DataFrame()\n",
    "    df[\"DISCOVERY_DATE\"] = pd.to_datetime(df['FIRE_YEAR'] * 1000 + df['DISCOVERY_DOY'], format='%Y%j')\n",
    "    cal = calendar()\n",
    "\n",
    "    # is holiday feature\n",
    "    holidays = cal.holidays(start=df[\"DISCOVERY_DATE\"].min(), end=df[\"DISCOVERY_DATE\"].max())\n",
    "    features['IS_HOLIDAY'] = df['DISCOVERY_DATE'].isin(holidays).astype(int)\n",
    "\n",
    "    # is fourth of july feature\n",
    "    features['IS_4TH_JULY'] = df['DISCOVERY_DATE'].apply(lambda date: 1 if date.strftime(\"%B %d\") == \"July 04\" else 0)\n",
    "\n",
    "    # is weekend feature\n",
    "    features['IS_WEEKEND'] = dayofweek = df[\"DISCOVERY_DATE\"].dt.dayofweek\n",
    "    features['IS_WEEKEND'][dayofweek >= 5] = 1\n",
    "    features['IS_WEEKEND'][dayofweek < 5]  = 0\n",
    "\n",
    "    features[\"WEST_TO_10W\"] = np.where(df['LONGITUDE'] >= -100, 1, 0)\n",
    "\n",
    "    # month dummies\n",
    "    month_dummies = pd.get_dummies(df[\"DISCOVERY_DATE\"].dt.month, prefix=\"MONTH\", drop_first=True)\n",
    "    features = pd.concat([features, month_dummies], axis=1)\n",
    "\n",
    "    return features\n",
    "\n"
   ],
   "metadata": {
    "collapsed": false
   }
  },
  {
   "cell_type": "code",
   "execution_count": 28,
   "outputs": [],
   "source": [
    "def get_smoking_rate_feature(df):\n",
    "    smoking_rate_dict = {'AL': 0.209, 'AK': 0.21, 'AZ': 0.156, 'AR': 0.223, 'CA': 0.113, 'CO': 0.146, 'CT': 0.127, 'DE': 0.17, 'DC': 0.143, 'FL': 0.161, 'GA': 0.175, 'HI': 0.128, 'ID': 0.143, 'IL': 0.155, 'IN': 0.218, 'IA': 0.171, 'KS': 0.174, 'KY': 0.246, 'LA': 0.231, 'ME': 0.173, 'MD': 0.138, 'MA': 0.137, 'MI': 0.193, 'MN': 0.145, 'MS': 0.222, 'MO': 0.208, 'MT': 0.172, 'NE': 0.154, 'NV': 0.176, 'NH': 0.157, 'NJ': 0.137, 'NM': 0.175, 'NY': 0.141, 'NC': 0.172, 'ND': 0.183, 'OH': 0.211, 'OK': 0.201, 'OR': 0.161, 'PA': 0.187, 'RI': 0.149, 'SC': 0.188, 'SD': 0.193, 'TN': 0.226, 'TX': 0.157, 'UT': 0.089, 'VT': 0.158, 'VA': 0.164, 'WA': 0.135, 'WV': 0.26, 'WI': 0.16, 'WY': 0.187, 'PR' : 0.096}\n",
    "\n",
    "    feature = df[\"STATE\"].map(smoking_rate_dict)\n",
    "    return feature"
   ],
   "metadata": {
    "collapsed": false
   }
  },
  {
   "cell_type": "code",
   "execution_count": 5,
   "outputs": [],
   "source": [
    "def add_density_features(df):\n",
    "\n",
    "    us_state_to_abbrev = {\n",
    "        \"Alabama\": \"AL\",\n",
    "        \"Alaska\": \"AK\",\n",
    "        \"Arizona\": \"AZ\",\n",
    "        \"Arkansas\": \"AR\",\n",
    "        \"California\": \"CA\",\n",
    "        \"Colorado\": \"CO\",\n",
    "        \"Connecticut\": \"CT\",\n",
    "        \"Delaware\": \"DE\",\n",
    "        \"Florida\": \"FL\",\n",
    "        \"Georgia\": \"GA\",\n",
    "        \"Hawaii\": \"HI\",\n",
    "        \"Idaho\": \"ID\",\n",
    "        \"Illinois\": \"IL\",\n",
    "        \"Indiana\": \"IN\",\n",
    "        \"Iowa\": \"IA\",\n",
    "        \"Kansas\": \"KS\",\n",
    "        \"Kentucky\": \"KY\",\n",
    "        \"Louisiana\": \"LA\",\n",
    "        \"Maine\": \"ME\",\n",
    "        \"Maryland\": \"MD\",\n",
    "        \"Massachusetts\": \"MA\",\n",
    "        \"Michigan\": \"MI\",\n",
    "        \"Minnesota\": \"MN\",\n",
    "        \"Mississippi\": \"MS\",\n",
    "        \"Missouri\": \"MO\",\n",
    "        \"Montana\": \"MT\",\n",
    "        \"Nebraska\": \"NE\",\n",
    "        \"Nevada\": \"NV\",\n",
    "        \"New Hampshire\": \"NH\",\n",
    "        \"New Jersey\": \"NJ\",\n",
    "        \"New Mexico\": \"NM\",\n",
    "        \"New York\": \"NY\",\n",
    "        \"North Carolina\": \"NC\",\n",
    "        \"North Dakota\": \"ND\",\n",
    "        \"Ohio\": \"OH\",\n",
    "        \"Oklahoma\": \"OK\",\n",
    "        \"Oregon\": \"OR\",\n",
    "        \"Pennsylvania\": \"PA\",\n",
    "        \"Rhode Island\": \"RI\",\n",
    "        \"South Carolina\": \"SC\",\n",
    "        \"South Dakota\": \"SD\",\n",
    "        \"Tennessee\": \"TN\",\n",
    "        \"Texas\": \"TX\",\n",
    "        \"Utah\": \"UT\",\n",
    "        \"Vermont\": \"VT\",\n",
    "        \"Virginia\": \"VA\",\n",
    "        \"Washington\": \"WA\",\n",
    "        \"West Virginia\": \"WV\",\n",
    "        \"Wisconsin\": \"WI\",\n",
    "        \"Wyoming\": \"WY\",\n",
    "        \"District of Columbia\": \"DC\",\n",
    "        \"American Samoa\": \"AS\",\n",
    "        \"Guam\": \"GU\",\n",
    "        \"Northern Mariana Islands\": \"MP\",\n",
    "        \"Puerto Rico\": \"PR\",\n",
    "        \"United States Minor Outlying Islands\": \"UM\",\n",
    "        \"U.S. Virgin Islands\": \"VI\",\n",
    "    }\n",
    "    us_abbrev_to_state = {v: k for k, v in us_state_to_abbrev.items()}\n",
    "\n",
    "    density_df = pd.read_csv(\"apportionment.csv\")\n",
    "\n",
    "    df[\"ROUNDED_YEAR\"] = df[\"FIRE_YEAR\"].apply(lambda x: (x//10) * 10)\n",
    "    df[\"DENSITY\"] = df.apply(\n",
    "        lambda row: density_df[(density_df[\"Name\"] == us_abbrev_to_state[row[\"STATE\"]]) &\n",
    "                               (density_df[\"Year\"] == row[\"ROUNDED_YEAR\"])][[\"Resident Population Density\"]].values[0, 0], axis=1).values\n",
    "\n",
    "    return df"
   ],
   "metadata": {
    "collapsed": false
   }
  },
  {
   "cell_type": "code",
   "execution_count": 6,
   "outputs": [],
   "source": [
    "def pre_process_data(data):\n",
    "    data = add_density_features(data)\n",
    "    features = create_date_faetures(data)\n",
    "    data = data.merge(features, left_index=True, right_index=True)\n",
    "    data[\"STATE_SMOKING_RATE\"] = get_smoking_rate_feature(data)\n",
    "    # One-Hot Encoding\n",
    "    for f in ['STATE', 'FIRE_YEAR']: # add months\n",
    "        data = pd.get_dummies(data,prefix=[f], columns = [f], drop_first=True)\n",
    "\n",
    "    # Ordinal Encoding\n",
    "    from sklearn import preprocessing\n",
    "    le = preprocessing.LabelEncoder()\n",
    "    le.fit(data['FIRE_SIZE_CLASS'])\n",
    "    data['FIRE_SIZE_CLASS'] = le.transform(data['FIRE_SIZE_CLASS']) + 1\n",
    "\n",
    "    def is_south_east_state(df):\n",
    "        return df[\"STATE_FL\"]+df[\"STATE_AL\"]+df[\"STATE_GA\"]+df[\"STATE_SC\"]+df[\"STATE_MS\"]+df[\"STATE_TN\"]+df[\"STATE_NC\"]\n",
    "\n",
    "    data[\"IS_SOUTH_EAST\"] = np.where(is_south_east_state(data) == 1, 1, 0)\n",
    "\n",
    "    columns_to_drop = ['OBJECTID', 'FOD_ID', 'FPA_ID', 'NWCG_REPORTING_UNIT_ID',\n",
    "               'NWCG_REPORTING_UNIT_NAME', 'SOURCE_REPORTING_UNIT', 'SOURCE_REPORTING_UNIT_NAME', 'LOCAL_FIRE_REPORT_ID',\n",
    "               'LOCAL_INCIDENT_ID', 'FIRE_CODE', 'FIRE_NAME', 'ICS_209_INCIDENT_NUMBER', 'ICS_209_NAME', 'MTBS_ID', 'MTBS_FIRE_NAME','COMPLEX_NAME', 'OWNER_CODE', 'COUNTY', 'FIPS_CODE', 'FIPS_NAME', \"Shape\", \"DISCOVERY_TIME\", \"CONT_TIME\",\n",
    "               \"OWNER_DESCR\", \"DISCOVERY_DATE\", \"DISCOVERY_DOY\", \"CONT_DOY\", \"CONT_DATE\", \"FIRE_SIZE\",\n",
    "                \"SOURCE_SYSTEM\", \"SOURCE_SYSTEM_TYPE\", \"NWCG_REPORTING_AGENCY\", \"STAT_CAUSE_DESCR\"]\n",
    "\n",
    "    data = data.drop(columns = columns_to_drop)\n",
    "\n",
    "    return data\n",
    "\n"
   ],
   "metadata": {
    "collapsed": false
   }
  },
  {
   "cell_type": "code",
   "execution_count": 7,
   "outputs": [
    {
     "name": "stderr",
     "output_type": "stream",
     "text": [
      "C:\\Users\\t-tomerfried\\AppData\\Local\\Temp\\ipykernel_16660\\2807412305.py:23: SettingWithCopyWarning: \n",
      "A value is trying to be set on a copy of a slice from a DataFrame\n",
      "\n",
      "See the caveats in the documentation: https://pandas.pydata.org/pandas-docs/stable/user_guide/indexing.html#returning-a-view-versus-a-copy\n",
      "  features['IS_WEEKEND'][dayofweek >= 5] = 1\n",
      "C:\\Users\\t-tomerfried\\AppData\\Local\\Temp\\ipykernel_16660\\2807412305.py:24: SettingWithCopyWarning: \n",
      "A value is trying to be set on a copy of a slice from a DataFrame\n",
      "\n",
      "See the caveats in the documentation: https://pandas.pydata.org/pandas-docs/stable/user_guide/indexing.html#returning-a-view-versus-a-copy\n",
      "  features['IS_WEEKEND'][dayofweek < 5]  = 0\n",
      "C:\\Users\\t-tomerfried\\AppData\\Local\\Temp\\ipykernel_16660\\2807412305.py:23: SettingWithCopyWarning: \n",
      "A value is trying to be set on a copy of a slice from a DataFrame\n",
      "\n",
      "See the caveats in the documentation: https://pandas.pydata.org/pandas-docs/stable/user_guide/indexing.html#returning-a-view-versus-a-copy\n",
      "  features['IS_WEEKEND'][dayofweek >= 5] = 1\n",
      "C:\\Users\\t-tomerfried\\AppData\\Local\\Temp\\ipykernel_16660\\2807412305.py:24: SettingWithCopyWarning: \n",
      "A value is trying to be set on a copy of a slice from a DataFrame\n",
      "\n",
      "See the caveats in the documentation: https://pandas.pydata.org/pandas-docs/stable/user_guide/indexing.html#returning-a-view-versus-a-copy\n",
      "  features['IS_WEEKEND'][dayofweek < 5]  = 0\n"
     ]
    }
   ],
   "source": [
    "conn = sqlite3.connect('FPA_FOD_20170508.sqlite')\n",
    "raw_df = pd.read_sql_query(\"SELECT * from Fires\", conn)\n",
    "raw_df[\"STAT_CAUSE_CODE\"] = raw_df[\"STAT_CAUSE_CODE\"].astype(int)\n",
    "X, y = raw_df.drop(columns = [\"STAT_CAUSE_CODE\"]), raw_df.filter(items = [\"STAT_CAUSE_CODE\"])\n",
    "X_train, X_test, y_train, y_test = train_test_split(X, y, test_size = 0.25, random_state=1)\n",
    "df = X_train.merge(y_train, left_index=True, right_index=True)\n",
    "X_train = pre_process_data(X_train)\n",
    "X_test = pre_process_data(X_test)"
   ],
   "metadata": {
    "collapsed": false
   }
  },
  {
   "cell_type": "code",
   "execution_count": 8,
   "outputs": [],
   "source": [
    "income_df = pd.read_csv(\"kaggle_income.csv\", encoding=\"latin1\").drop_duplicates(subset=['Lat', \"Lon\"])\n",
    "income_locations = [(row[\"Lat\"], row[\"Lon\"]) for _, row in income_df.iterrows()]"
   ],
   "metadata": {
    "collapsed": false
   }
  },
  {
   "cell_type": "code",
   "execution_count": 9,
   "outputs": [],
   "source": [
    "def create_index(locations):\n",
    "    index = rtree.index.Index()\n",
    "    for i, location in enumerate(locations):\n",
    "        index.insert(i, location)\n",
    "    return index\n",
    "\n",
    "index = create_index(income_locations)\n",
    "def add_income_features(df):\n",
    "\n",
    "    def find_closest_location(target_row):\n",
    "        target_location = (target_row[\"LATITUDE\"], target_row[\"LONGITUDE\"])\n",
    "        closest_location = None\n",
    "        closest_distance = float(\"inf\")\n",
    "        for i in index.nearest(target_location, 1):\n",
    "            location = income_locations[i]\n",
    "            distance = haversine.haversine(location, target_location)\n",
    "            if distance < closest_distance:\n",
    "                closest_location = location\n",
    "                closest_distance = distance\n",
    "        return closest_location\n",
    "\n",
    "    df[\"closest_location\"] = df.apply(find_closest_location, axis=1)\n",
    "\n",
    "    df[['Lat', 'Lon']] = df[\"closest_location\"].apply(lambda x: pd.Series(x))\n",
    "    df = pd.merge(df, income_df, on=['Lat', 'Lon'], how=\"left\")\n",
    "    df = df.drop(columns = ['id', 'State_Code', 'State_Name', 'State_ab', 'Zip_Code', 'Area_Code', 'Lat', \"Lon\", 'closest_location'])\n",
    "    return df"
   ],
   "metadata": {
    "collapsed": false
   }
  },
  {
   "cell_type": "code",
   "execution_count": 10,
   "outputs": [],
   "source": [
    "X_train = add_income_features(X_train)\n",
    "X_test = add_income_features(X_test)"
   ],
   "metadata": {
    "collapsed": false
   }
  },
  {
   "cell_type": "code",
   "execution_count": 11,
   "outputs": [],
   "source": [
    "def encode_income_columns(data):\n",
    "    # One-Hot Encoding\n",
    "    for f in ['Type', 'Primary']:\n",
    "        data = pd.get_dummies(data,prefix=[f], columns = [f], drop_first=True)\n",
    "\n",
    "    # Ordinal Encoding\n",
    "    le = preprocessing.LabelEncoder()\n",
    "    for c in ['County', 'City', 'Place']:\n",
    "        le.fit(data[c])\n",
    "        data[c] = le.transform(data[c]) + 1\n",
    "\n",
    "    return data"
   ],
   "metadata": {
    "collapsed": false
   }
  },
  {
   "cell_type": "code",
   "execution_count": 12,
   "outputs": [],
   "source": [
    "X_train = encode_income_columns(X_train)\n",
    "X_test = encode_income_columns(X_test)"
   ],
   "metadata": {
    "collapsed": false
   }
  },
  {
   "cell_type": "code",
   "execution_count": 13,
   "outputs": [],
   "source": [
    "X_train['DENSITY'] = X_train['DENSITY'].str.replace(',','').astype(float)\n",
    "X_test['DENSITY'] = X_test['DENSITY'].str.replace(',','').astype(float)"
   ],
   "metadata": {
    "collapsed": false
   }
  },
  {
   "cell_type": "code",
   "execution_count": 14,
   "outputs": [],
   "source": [
    "# rf = RandomForestClassifier(random_state=10).fit(X_train, y_train)\n",
    "# rf_preds = rf.predict(X_test)\n",
    "# print(\"Random Forest accuracy score is:\")\n",
    "# print(accuracy_score(y_test,rf_preds))\n",
    "# print(\"Random Forest F1 score is:\")\n",
    "# print(classification_report(y_test,rf_preds, zero_division=0))\n",
    "#\n",
    "# feature_importances = sorted(list(zip(X_train.columns, rf.feature_importances_)), key=lambda x: -x[1])\n",
    "# columns = list(list(zip(*feature_importances))[0])\n",
    "# importances = list(list(zip(*feature_importances))[1])\n",
    "# sns.barplot(x=columns, y=importances)\n",
    "# feature_importances"
   ],
   "metadata": {
    "collapsed": false
   }
  },
  {
   "cell_type": "markdown",
   "source": [
    "Wow, an improvement of approximately 3 percent in accuracy. All labels' f1 scores where improved.\n",
    "Looks like we should continue with this idea in mind, let's try to add proximity to railroad and smoking ratio of every state (added above)"
   ],
   "metadata": {
    "collapsed": false
   }
  },
  {
   "cell_type": "code",
   "execution_count": 33,
   "outputs": [],
   "source": [
    "from shapely.geometry import Point\n",
    "from rtree import index\n",
    "\n",
    "gdf = gpd.read_file(r\"C:\\Users\\t-tomerfried\\Desktop\\semester e\\shifter\\APML\\North_American_Rail_Network_Lines\\North_American_Rail_Network_Lines.shp\", crs=\"EPSG:3857\")\n",
    "gdf = gdf.to_crs(\"EPSG:4269\")\n",
    "\n",
    "# Create an index of the rail lines\n",
    "idx = index.Index()\n",
    "for i, line in gdf.iterrows():\n",
    "    idx.insert(i, line.geometry.bounds, obj=line)"
   ],
   "metadata": {
    "collapsed": false
   }
  },
  {
   "cell_type": "code",
   "execution_count": 69,
   "outputs": [],
   "source": [
    "def find_closest_line(row):\n",
    "    # Create a shapely Point object for the location\n",
    "    loc_point = Point(row[\"LONGITUDE\"], row[\"LATITUDE\"])\n",
    "    # Find the nearest rail line using the index\n",
    "    nearest_line = gdf.iloc[list(idx.nearest(loc_point.bounds, 1))[0]]\n",
    "    # Find the distance between the location and the nearest rail line\n",
    "    distance = loc_point.distance(nearest_line.geometry)\n",
    "    return distance"
   ],
   "metadata": {
    "collapsed": false
   }
  },
  {
   "cell_type": "code",
   "execution_count": 70,
   "outputs": [],
   "source": [
    "X_train[\"MIN_DIST_TRAIN\"] = X_train.apply(find_closest_line, axis=1)\n",
    "X_test[\"MIN_DIST_TRAIN\"] = X_test.apply(find_closest_line, axis=1)"
   ],
   "metadata": {
    "collapsed": false
   }
  },
  {
   "cell_type": "code",
   "execution_count": 75,
   "outputs": [
    {
     "name": "stderr",
     "output_type": "stream",
     "text": [
      "C:\\Users\\t-tomerfried\\AppData\\Local\\Temp\\ipykernel_16660\\1897862076.py:1: DataConversionWarning: A column-vector y was passed when a 1d array was expected. Please change the shape of y to (n_samples,), for example using ravel().\n",
      "  rf = RandomForestClassifier(random_state=10).fit(X_train, y_train)\n"
     ]
    },
    {
     "name": "stdout",
     "output_type": "stream",
     "text": [
      "Random Forest accuracy score is:\n",
      "0.5610442484652789\n",
      "Random Forest F1 score is:\n",
      "              precision    recall  f1-score   support\n",
      "\n",
      "           1       0.70      0.81      0.75     23271\n",
      "           2       0.39      0.25      0.31     12469\n",
      "           3       0.22      0.05      0.08      4428\n",
      "           4       0.46      0.26      0.33      6387\n",
      "           5       0.51      0.68      0.58     35799\n",
      "           6       0.51      0.47      0.49      2753\n",
      "           7       0.55      0.51      0.53     23178\n",
      "           8       0.33      0.13      0.19      5139\n",
      "           9       0.49      0.51      0.50     26972\n",
      "          10       0.55      0.34      0.42       994\n",
      "          11       0.23      0.05      0.08      1177\n",
      "          12       0.14      0.03      0.04       310\n",
      "          13       0.84      0.83      0.84     13829\n",
      "\n",
      "    accuracy                           0.56    156706\n",
      "   macro avg       0.46      0.38      0.40    156706\n",
      "weighted avg       0.54      0.56      0.54    156706\n",
      "\n"
     ]
    },
    {
     "data": {
      "text/plain": "[('LONGITUDE', 0.11216194382855696),\n ('LATITUDE', 0.1011821081999122),\n ('MIN_DIST_TRAIN', 0.09876926189252325),\n ('DENSITY', 0.041341036767105585),\n ('ALand', 0.040301490688625846),\n ('Mean', 0.03490298690137503),\n ('Stdev', 0.03437958174485427),\n ('sum_w', 0.03426080154848757),\n ('Median', 0.033467458106913026),\n ('City', 0.03325664722029519),\n ('AWater', 0.032264206477610434),\n ('FIRE_SIZE_CLASS', 0.02875590765118941),\n ('IS_WEEKEND', 0.020734488081785525),\n ('ROUNDED_YEAR', 0.01909590054701943),\n ('STATE_SMOKING_RATE', 0.01789893742091055),\n ('County', 0.013240258409293978),\n ('Place', 0.01292296764762904),\n ('MONTH_7', 0.011266860966686172),\n ('MONTH_8', 0.010921436072265726),\n ('MONTH_4', 0.010047349848523027),\n ('MONTH_6', 0.009473074052435278),\n ('WEST_TO_10W', 0.009403722711640899),\n ('MONTH_3', 0.009086847743824825),\n ('MONTH_5', 0.008832209263927936),\n ('FIRE_YEAR_2007', 0.008174147771300272),\n ('FIRE_YEAR_2008', 0.007747051198606627),\n ('MONTH_9', 0.007700149742920606),\n ('MONTH_10', 0.007449042347423472),\n ('FIRE_YEAR_2006', 0.0070249451921996185),\n ('FIRE_YEAR_2009', 0.007004255137021509),\n ('FIRE_YEAR_1999', 0.006721109148675293),\n ('FIRE_YEAR_2000', 0.006613045415367891),\n ('FIRE_YEAR_2005', 0.006550881115242115),\n ('MONTH_2', 0.006546660676995091),\n ('FIRE_YEAR_2011', 0.006360119648755494),\n ('MONTH_11', 0.006299343549981556),\n ('FIRE_YEAR_2001', 0.005832529482921201),\n ('FIRE_YEAR_1997', 0.005586299626934664),\n ('IS_SOUTH_EAST', 0.005478698913149683),\n ('FIRE_YEAR_1998', 0.005451334820697782),\n ('FIRE_YEAR_2002', 0.0053890688936692),\n ('FIRE_YEAR_1996', 0.005247785922989614),\n ('FIRE_YEAR_1994', 0.005245363071373816),\n ('FIRE_YEAR_1995', 0.005214018715622916),\n ('FIRE_YEAR_2010', 0.0050752434537832),\n ('FIRE_YEAR_1993', 0.005061716499669279),\n ('FIRE_YEAR_2004', 0.0049621814830695995),\n ('STATE_NY', 0.004799739378092557),\n ('FIRE_YEAR_2003', 0.004798279577767583),\n ('FIRE_YEAR_2015', 0.004551743593045988),\n ('MONTH_12', 0.0043035501984272214),\n ('FIRE_YEAR_2012', 0.004299728747168355),\n ('FIRE_YEAR_2014', 0.00417392313376824),\n ('FIRE_YEAR_2013', 0.004127612644064382),\n ('IS_HOLIDAY', 0.004124469650432461),\n ('STATE_GA', 0.003898109805120964),\n ('STATE_PR', 0.003380369675918515),\n ('STATE_FL', 0.0026371336721098147),\n ('STATE_CA', 0.0025013622201174603),\n ('STATE_TX', 0.0022500409245971333),\n ('Type_Track', 0.0020183924848844216),\n ('Primary_place', 0.001884219258999973),\n ('STATE_OK', 0.0017774939071247095),\n ('Type_CDP', 0.001423278813282132),\n ('STATE_HI', 0.0013272952828490775),\n ('STATE_MS', 0.0013103917612074484),\n ('IS_4TH_JULY', 0.0012847762489784378),\n ('Type_City', 0.0012209722827443601),\n ('STATE_SC', 0.001175541947546086),\n ('STATE_AZ', 0.0010046090002267024),\n ('STATE_NC', 0.0009860508701725172),\n ('Type_Town', 0.0009694550374224382),\n ('STATE_UT', 0.0008722832307567168),\n ('STATE_ND', 0.0007399109901356575),\n ('STATE_CO', 0.000702143930080554),\n ('STATE_ID', 0.0006208445684779763),\n ('STATE_KY', 0.0006147008789065553),\n ('STATE_AL', 0.0006122912512520892),\n ('STATE_SD', 0.0006110021061706745),\n ('STATE_OR', 0.000606902264929047),\n ('STATE_LA', 0.0006019960883490537),\n ('STATE_ME', 0.0005906036600212352),\n ('STATE_NJ', 0.0005162986030885039),\n ('STATE_WA', 0.0004795871783901844),\n ('STATE_NM', 0.0004374700252177518),\n ('STATE_MN', 0.00042140626205226567),\n ('STATE_TN', 0.00040676070214252423),\n ('STATE_MT', 0.000390197918344643),\n ('STATE_WV', 0.00035884191502995197),\n ('STATE_AR', 0.0003256700945444259),\n ('Type_Village', 0.00031808321211953356),\n ('STATE_IA', 0.00030908509486450635),\n ('STATE_WI', 0.00028698981857103466),\n ('STATE_NV', 0.0002833959477386266),\n ('STATE_MO', 0.0002484530002363027),\n ('STATE_NE', 0.0002145552430282478),\n ('STATE_WY', 0.00021103318016138197),\n ('STATE_VA', 0.00020512219915393574),\n ('STATE_KS', 0.00014645420055931432),\n ('STATE_MI', 0.00014344506507825053),\n ('STATE_PA', 0.0001358073542874754),\n ('STATE_CT', 0.00011495298261425062),\n ('STATE_MD', 0.00010012045679662561),\n ('STATE_IL', 9.902299538075056e-05),\n ('STATE_OH', 6.869605773009595e-05),\n ('STATE_IN', 6.120609189184546e-05),\n ('STATE_NH', 5.229971760522095e-05),\n ('STATE_MA', 5.1683002122695384e-05),\n ('Type_Community', 3.126763073506128e-05),\n ('STATE_RI', 2.467650699767016e-05),\n ('Type_County', 1.8850740864579755e-05),\n ('STATE_VT', 1.319300583262475e-05),\n ('Type_Urban', 1.1985433238087682e-05),\n ('STATE_DE', 6.7234658090337475e-06),\n ('STATE_DC', 2.970190862427111e-06)]"
     },
     "execution_count": 75,
     "metadata": {},
     "output_type": "execute_result"
    },
    {
     "data": {
      "text/plain": "<Figure size 640x480 with 1 Axes>",
      "image/png": "[encoded data removed]"
     },
     "metadata": {},
     "output_type": "display_data"
    }
   ],
   "source": [
    "rf = RandomForestClassifier(random_state=10).fit(X_train, y_train)\n",
    "rf_preds = rf.predict(X_test)\n",
    "print(\"Random Forest accuracy score is:\")\n",
    "print(accuracy_score(y_test,rf_preds))\n",
    "print(\"Random Forest F1 score is:\")\n",
    "print(classification_report(y_test,rf_preds, zero_division=0))\n",
    "\n",
    "feature_importances = sorted(list(zip(X_train.columns, rf.feature_importances_)), key=lambda x: -x[1])\n",
    "columns = list(list(zip(*feature_importances))[0])\n",
    "importances = list(list(zip(*feature_importances))[1])\n",
    "sns.barplot(x=columns, y=importances)\n",
    "feature_importances"
   ],
   "metadata": {
    "collapsed": false
   }
  },
  {
   "cell_type": "markdown",
   "source": [
    "from 0.552 to 0.561!! yessss\n",
    "\n",
    "Let's try to add a feature which indicates whether a storm had occurred at the same time and place of the fire"
   ],
   "metadata": {
    "collapsed": false
   }
  },
  {
   "cell_type": "code",
   "execution_count": null,
   "outputs": [],
   "source": [
    "year_df_dict = {year: pd.read_csv(\"StormEvents_details-ftp_v1.0_d\"+str(year)+\"_c20170717.csv\") for year in range(1996, 2015)}"
   ],
   "metadata": {
    "collapsed": false
   }
  },
  {
   "cell_type": "code",
   "execution_count": null,
   "outputs": [],
   "source": [
    "import geopandas as gpd\n",
    "from shapely.geometry import Point\n",
    "\n",
    "# Load the fire dataset\n",
    "fires = pd.read_csv(\"fires.csv\")\n",
    "# convert the date column to datetime\n",
    "fires[\"date\"] = pd.to_datetime(fires[\"date\"])\n",
    "\n",
    "# Convert the fire dataset into a GeoDataFrame\n",
    "fires_gdf = gpd.GeoDataFrame(fires, geometry=gpd.points_from_xy(fires[\"longitude\"], fires[\"latitude\"]))\n",
    "\n",
    "# Load the storms dataset\n",
    "storms = pd.read_csv(\"storms.csv\")\n",
    "# convert start_date and end_date columns to datetime\n",
    "storms[\"start_date\"] = pd.to_datetime(storms[\"start_date\"])\n",
    "storms[\"end_date\"] = pd.to_datetime(storms[\"end_date\"])\n",
    "\n",
    "# create a new column in the storms dataframe to store the result\n",
    "storms[\"storm\"] = False\n",
    "\n",
    "# Convert the storms dataset into a GeoDataFrame\n",
    "storms_gdf = gpd.GeoDataFrame(storms, geometry=gpd.points_from_xy(storms[[\"start_longitude\",\"end_longitude\"]], storms[[\"start_latitude\",\"end_latitude\"]]))\n",
    "\n",
    "# Spatial join the two GeoDataFrames\n",
    "join = gpd.sjoin(fires_gdf, storms_gdf, how=\"inner\", op='intersects')\n",
    "\n",
    "# group the data by fire and count the number of storms for each fire\n",
    "fires_with_storms = join.groupby(\"index_left\").size()\n",
    "\n",
    "# Print the resulting fires dataframe\n",
    "print(fires_with_storms)\n"
   ],
   "metadata": {
    "collapsed": false
   }
  },
  {
   "cell_type": "markdown",
   "source": [
    "To be continued..."
   ],
   "metadata": {
    "collapsed": false
   }
  },
  {
   "cell_type": "markdown",
   "source": [
    "# Next Time\n",
    "- Lightning data features\n",
    "- storms data features\n",
    "- attempt different models and explore predictions"
   ],
   "metadata": {
    "collapsed": false
   }
  }
 ],
 "metadata": {
  "kernelspec": {
   "display_name": "Python 3",
   "language": "python",
   "name": "python3"
  },
  "language_info": {
   "codemirror_mode": {
    "name": "ipython",
    "version": 2
   },
   "file_extension": ".py",
   "mimetype": "text/x-python",
   "name": "python",
   "nbconvert_exporter": "python",
   "pygments_lexer": "ipython2",
   "version": "2.7.6"
  }
 },
 "nbformat": 4,
 "nbformat_minor": 0
}
