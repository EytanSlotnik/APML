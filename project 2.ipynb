{
 "cells": [
  {
   "cell_type": "code",
   "execution_count": 118,
   "metadata": {
    "collapsed": true
   },
   "outputs": [],
   "source": [
    "import pandas as pd\n",
    "import sqlite3\n",
    "from sklearn.linear_model import LinearRegression\n",
    "from sklearn.model_selection import train_test_split\n",
    "import plotly.express as px\n",
    "import numpy as np\n",
    "import datetime\n",
    "import seaborn as sns\n",
    "from sklearn.metrics import classification_report\n",
    "from sklearn.ensemble import RandomForestClassifier\n",
    "from sklearn.metrics import accuracy_score\n",
    "from mpl_toolkits.basemap import Basemap\n",
    "import matplotlib.pyplot as plt\n",
    "import folium\n",
    "import xgboost as xgb\n",
    "from tensorflow.keras.utils import to_categorical\n",
    "from sklearn import preprocessing"
   ]
  },
  {
   "cell_type": "code",
   "execution_count": 119,
   "outputs": [],
   "source": [
    "def create_date_faetures(df):\n",
    "    \"\"\"\n",
    "    creates data features from YEAR and DOY.\n",
    "    create a new column of date which is calculated from FIRE_YEAR and DISCOVERY_DOY, and extract from there features\n",
    "    :param df: data\n",
    "    :return: a new dataframe containing only the features we added\n",
    "    \"\"\"\n",
    "    from pandas.tseries.holiday import USFederalHolidayCalendar as calendar\n",
    "\n",
    "    features = pd.DataFrame()\n",
    "    df[\"DISCOVERY_DATE\"] = pd.to_datetime(df['FIRE_YEAR'] * 1000 + df['DISCOVERY_DOY'], format='%Y%j')\n",
    "    cal = calendar()\n",
    "\n",
    "    # is holiday feature\n",
    "    holidays = cal.holidays(start=df[\"DISCOVERY_DATE\"].min(), end=df[\"DISCOVERY_DATE\"].max())\n",
    "    features['IS_HOLIDAY'] = df['DISCOVERY_DATE'].isin(holidays).astype(int)\n",
    "\n",
    "    # is fourth of july feature\n",
    "    features['IS_4TH_JULY'] = df['DISCOVERY_DATE'].apply(lambda date: 1 if date.strftime(\"%B %d\") == \"July 04\" else 0)\n",
    "\n",
    "    # is weekend feature\n",
    "    features['IS_WEEKEND'] = dayofweek = df[\"DISCOVERY_DATE\"].dt.dayofweek\n",
    "    features['IS_WEEKEND'][dayofweek >= 5] = 1\n",
    "    features['IS_WEEKEND'][dayofweek < 5]  = 0\n",
    "\n",
    "    features[\"WEST_TO_10W\"] = np.where(df['LONGITUDE'] >= -100, 1, 0)\n",
    "\n",
    "    # month dummies\n",
    "    month_dummies = pd.get_dummies(df[\"DISCOVERY_DATE\"].dt.month, prefix=\"MONTH\", drop_first=True)\n",
    "    features = pd.concat([features, month_dummies], axis=1)\n",
    "\n",
    "    return features\n",
    "\n"
   ],
   "metadata": {
    "collapsed": false
   }
  },
  {
   "cell_type": "code",
   "execution_count": 120,
   "outputs": [],
   "source": [
    "def pre_process_data(data):\n",
    "    features = create_date_faetures(data)\n",
    "    data = data.merge(features, left_index=True, right_index=True)\n",
    "\n",
    "    # One-Hot Encoding\n",
    "    for f in ['STATE', 'FIRE_YEAR']: # add months\n",
    "        data = pd.get_dummies(data,prefix=[f], columns = [f], drop_first=True)\n",
    "\n",
    "    # Ordinal Encoding\n",
    "    from sklearn import preprocessing\n",
    "    le = preprocessing.LabelEncoder()\n",
    "    le.fit(data['FIRE_SIZE_CLASS'])\n",
    "    data['FIRE_SIZE_CLASS'] = le.transform(data['FIRE_SIZE_CLASS']) + 1\n",
    "\n",
    "    def is_south_east_state(df):\n",
    "        return df[\"STATE_FL\"]+df[\"STATE_AL\"]+df[\"STATE_GA\"]+df[\"STATE_SC\"]+df[\"STATE_MS\"]+df[\"STATE_TN\"]+df[\"STATE_NC\"]\n",
    "\n",
    "    data[\"IS_SOUTH_EAST\"] = np.where(is_south_east_state(data) == 1, 1, 0)\n",
    "\n",
    "    columns_to_drop = ['OBJECTID', 'FOD_ID', 'FPA_ID', 'NWCG_REPORTING_UNIT_ID',\n",
    "               'NWCG_REPORTING_UNIT_NAME', 'SOURCE_REPORTING_UNIT', 'SOURCE_REPORTING_UNIT_NAME', 'LOCAL_FIRE_REPORT_ID',\n",
    "               'LOCAL_INCIDENT_ID', 'FIRE_CODE', 'FIRE_NAME', 'ICS_209_INCIDENT_NUMBER', 'ICS_209_NAME', 'MTBS_ID', 'MTBS_FIRE_NAME','COMPLEX_NAME', 'OWNER_CODE', 'COUNTY', 'FIPS_CODE', 'FIPS_NAME', \"Shape\", \"DISCOVERY_TIME\", \"CONT_TIME\",\n",
    "               \"OWNER_DESCR\", \"DISCOVERY_DATE\", \"DISCOVERY_DOY\", \"CONT_DOY\", \"CONT_DATE\", \"FIRE_SIZE\",\n",
    "                \"SOURCE_SYSTEM\", \"SOURCE_SYSTEM_TYPE\", \"NWCG_REPORTING_AGENCY\", \"STAT_CAUSE_DESCR\"]\n",
    "\n",
    "    data = data.drop(columns = columns_to_drop)\n",
    "\n",
    "    return data\n",
    "\n"
   ],
   "metadata": {
    "collapsed": false
   }
  },
  {
   "cell_type": "code",
   "execution_count": 121,
   "outputs": [
    {
     "name": "stderr",
     "output_type": "stream",
     "text": [
      "C:\\Users\\t-tomerfried\\AppData\\Local\\Temp\\ipykernel_7856\\2807412305.py:23: SettingWithCopyWarning: \n",
      "A value is trying to be set on a copy of a slice from a DataFrame\n",
      "\n",
      "See the caveats in the documentation: https://pandas.pydata.org/pandas-docs/stable/user_guide/indexing.html#returning-a-view-versus-a-copy\n",
      "  features['IS_WEEKEND'][dayofweek >= 5] = 1\n",
      "C:\\Users\\t-tomerfried\\AppData\\Local\\Temp\\ipykernel_7856\\2807412305.py:24: SettingWithCopyWarning: \n",
      "A value is trying to be set on a copy of a slice from a DataFrame\n",
      "\n",
      "See the caveats in the documentation: https://pandas.pydata.org/pandas-docs/stable/user_guide/indexing.html#returning-a-view-versus-a-copy\n",
      "  features['IS_WEEKEND'][dayofweek < 5]  = 0\n",
      "C:\\Users\\t-tomerfried\\AppData\\Local\\Temp\\ipykernel_7856\\2807412305.py:23: SettingWithCopyWarning: \n",
      "A value is trying to be set on a copy of a slice from a DataFrame\n",
      "\n",
      "See the caveats in the documentation: https://pandas.pydata.org/pandas-docs/stable/user_guide/indexing.html#returning-a-view-versus-a-copy\n",
      "  features['IS_WEEKEND'][dayofweek >= 5] = 1\n",
      "C:\\Users\\t-tomerfried\\AppData\\Local\\Temp\\ipykernel_7856\\2807412305.py:24: SettingWithCopyWarning: \n",
      "A value is trying to be set on a copy of a slice from a DataFrame\n",
      "\n",
      "See the caveats in the documentation: https://pandas.pydata.org/pandas-docs/stable/user_guide/indexing.html#returning-a-view-versus-a-copy\n",
      "  features['IS_WEEKEND'][dayofweek < 5]  = 0\n"
     ]
    }
   ],
   "source": [
    "conn = sqlite3.connect('FPA_FOD_20170508.sqlite')\n",
    "raw_df = pd.read_sql_query(\"SELECT * from Fires\", conn)\n",
    "raw_df[\"STAT_CAUSE_CODE\"] = raw_df[\"STAT_CAUSE_CODE\"].astype(int)\n",
    "X, y = raw_df.drop(columns = [\"STAT_CAUSE_CODE\"]), raw_df.filter(items = [\"STAT_CAUSE_CODE\"])\n",
    "X_train, X_test, y_train, y_test = train_test_split(X, y, test_size = 0.25, random_state=1)\n",
    "df = X_train.merge(y_train, left_index=True, right_index=True)\n",
    "X_train = pre_process_data(X_train)\n",
    "X_test = pre_process_data(X_test)"
   ],
   "metadata": {
    "collapsed": false
   }
  },
  {
   "cell_type": "code",
   "execution_count": 146,
   "outputs": [],
   "source": [
    "income_df = pd.read_csv(\"kaggle_income.csv\", encoding=\"latin1\").drop_duplicates(subset=['Lat', \"Lon\"])\n",
    "income_locations = [(row[\"Lat\"], row[\"Lon\"]) for _, row in income_df.iterrows()]"
   ],
   "metadata": {
    "collapsed": false
   }
  },
  {
   "cell_type": "code",
   "execution_count": 149,
   "outputs": [],
   "source": [
    "def create_index(locations):\n",
    "    index = rtree.index.Index()\n",
    "    for i, location in enumerate(locations):\n",
    "        index.insert(i, location)\n",
    "    return index\n",
    "\n",
    "index = create_index(income_locations)\n",
    "def add_income_features(df):\n",
    "\n",
    "    def find_closest_location(target_row):\n",
    "        target_location = (target_row[\"LATITUDE\"], target_row[\"LONGITUDE\"])\n",
    "        closest_location = None\n",
    "        closest_distance = float(\"inf\")\n",
    "        for i in index.nearest(target_location, 1):\n",
    "            location = income_locations[i]\n",
    "            distance = haversine.haversine(location, target_location)\n",
    "            if distance < closest_distance:\n",
    "                closest_location = location\n",
    "                closest_distance = distance\n",
    "        return closest_location\n",
    "\n",
    "    df[\"closest_location\"] = df.apply(find_closest_location, axis=1)\n",
    "\n",
    "    df[['Lat', 'Lon']] = df[\"closest_location\"].apply(lambda x: pd.Series(x))\n",
    "    df = pd.merge(df, income_df, on=['Lat', 'Lon'], how=\"left\")\n",
    "    df = df.drop(columns = ['id', 'State_Code', 'State_Name', 'State_ab', 'Zip_Code', 'Area_Code', 'Lat', \"Lon\", 'closest_location'])\n",
    "    return df"
   ],
   "metadata": {
    "collapsed": false
   }
  },
  {
   "cell_type": "code",
   "execution_count": 151,
   "outputs": [],
   "source": [
    "X_train = add_income_features(X_train)\n",
    "X_test = add_income_features(X_test)"
   ],
   "metadata": {
    "collapsed": false
   }
  },
  {
   "cell_type": "code",
   "execution_count": 152,
   "outputs": [],
   "source": [
    "def encode_income_columns(data):\n",
    "    # One-Hot Encoding\n",
    "    for f in ['Type', 'Primary']:\n",
    "        data = pd.get_dummies(data,prefix=[f], columns = [f], drop_first=True)\n",
    "\n",
    "    # Ordinal Encoding\n",
    "    le = preprocessing.LabelEncoder()\n",
    "    for c in ['County', 'City', 'Place']:\n",
    "        le.fit(data[c])\n",
    "        data[c] = le.transform(data[c]) + 1\n",
    "\n",
    "    return data"
   ],
   "metadata": {
    "collapsed": false
   }
  },
  {
   "cell_type": "code",
   "execution_count": 153,
   "outputs": [],
   "source": [
    "X_train = encode_income_columns(X_train)\n",
    "X_test = encode_income_columns(X_test)"
   ],
   "metadata": {
    "collapsed": false
   }
  },
  {
   "cell_type": "code",
   "execution_count": 154,
   "outputs": [
    {
     "name": "stderr",
     "output_type": "stream",
     "text": [
      "C:\\Users\\t-tomerfried\\AppData\\Local\\Temp\\ipykernel_7856\\2176064931.py:1: DataConversionWarning: A column-vector y was passed when a 1d array was expected. Please change the shape of y to (n_samples,), for example using ravel().\n",
      "  rf = RandomForestClassifier(random_state=10).fit(X_train, y_train)\n"
     ]
    },
    {
     "name": "stdout",
     "output_type": "stream",
     "text": [
      "Random Forest accuracy score is:\n",
      "0.548638852373234\n",
      "Random Forest F1 score is:\n",
      "              precision    recall  f1-score   support\n",
      "\n",
      "           1       0.69      0.80      0.75     23271\n",
      "           2       0.36      0.24      0.29     12469\n",
      "           3       0.20      0.06      0.09      4428\n",
      "           4       0.43      0.25      0.31      6387\n",
      "           5       0.50      0.67      0.57     35799\n",
      "           6       0.46      0.39      0.42      2753\n",
      "           7       0.54      0.50      0.52     23178\n",
      "           8       0.30      0.13      0.18      5139\n",
      "           9       0.48      0.50      0.49     26972\n",
      "          10       0.54      0.35      0.42       994\n",
      "          11       0.20      0.05      0.08      1177\n",
      "          12       0.14      0.03      0.05       310\n",
      "          13       0.85      0.79      0.82     13829\n",
      "\n",
      "    accuracy                           0.55    156706\n",
      "   macro avg       0.44      0.37      0.38    156706\n",
      "weighted avg       0.53      0.55      0.53    156706\n",
      "\n"
     ]
    },
    {
     "data": {
      "text/plain": "[('LONGITUDE', 0.146572060352407),\n ('LATITUDE', 0.13134858680010555),\n ('ALand', 0.04462976320251348),\n ('Mean', 0.035339489872349826),\n ('sum_w', 0.0350839214399272),\n ('Stdev', 0.0348371201752245),\n ('Median', 0.03389865943002417),\n ('City', 0.033854930252357224),\n ('AWater', 0.03299897151909043),\n ('FIRE_SIZE_CLASS', 0.03207275654280039),\n ('IS_WEEKEND', 0.025398853827110178),\n ('County', 0.01682094280227828),\n ('Place', 0.016503720213953924),\n ('WEST_TO_10W', 0.012119075622344003),\n ('MONTH_8', 0.011537342666565656),\n ('MONTH_7', 0.011372850805119024),\n ('MONTH_4', 0.01065857732834121),\n ('FIRE_YEAR_2007', 0.010626919468549514),\n ('FIRE_YEAR_2011', 0.01060157770310437),\n ('FIRE_YEAR_2008', 0.010040320890267072),\n ('MONTH_6', 0.0099317782699569),\n ('FIRE_YEAR_2006', 0.009927353588647981),\n ('MONTH_3', 0.0095216338974858),\n ('MONTH_5', 0.009438270544347283),\n ('FIRE_YEAR_2009', 0.00917799590482711),\n ('FIRE_YEAR_2005', 0.00914711669048452),\n ('FIRE_YEAR_2010', 0.0091348206766611),\n ('FIRE_YEAR_1996', 0.008846879053681339),\n ('FIRE_YEAR_2000', 0.008778812762519043),\n ('FIRE_YEAR_1999', 0.008613789378704205),\n ('FIRE_YEAR_1994', 0.008489798881057147),\n ('MONTH_9', 0.008457261183366144),\n ('FIRE_YEAR_1995', 0.008451323714435618),\n ('MONTH_10', 0.008157458280831184),\n ('FIRE_YEAR_2012', 0.008060612268292688),\n ('FIRE_YEAR_2001', 0.00802265239133076),\n ('FIRE_YEAR_1993', 0.007965556591474144),\n ('FIRE_YEAR_2015', 0.007897160395462833),\n ('FIRE_YEAR_2014', 0.007657650104889746),\n ('FIRE_YEAR_2013', 0.007465811104173758),\n ('FIRE_YEAR_1997', 0.007441691333104975),\n ('FIRE_YEAR_2002', 0.007412061395856775),\n ('FIRE_YEAR_1998', 0.007251694973891739),\n ('FIRE_YEAR_2004', 0.007132106162931807),\n ('MONTH_2', 0.00705265612042048),\n ('MONTH_11', 0.006927701834498408),\n ('FIRE_YEAR_2003', 0.00681268268301209),\n ('IS_SOUTH_EAST', 0.006513758219189706),\n ('STATE_NY', 0.006243858503352986),\n ('STATE_GA', 0.004857357955202366),\n ('MONTH_12', 0.004798631243666423),\n ('IS_HOLIDAY', 0.004751176800481476),\n ('STATE_PR', 0.0046414757761441515),\n ('STATE_CA', 0.004095371131663417),\n ('STATE_FL', 0.003430509409159142),\n ('STATE_TX', 0.0032597960606024555),\n ('STATE_HI', 0.0023352061846048386),\n ('STATE_OK', 0.0021193104372976878),\n ('STATE_MS', 0.0020112961360685007),\n ('Primary_place', 0.0017799078663832215),\n ('Type_Track', 0.001596624635439099),\n ('STATE_OR', 0.001539318946032184),\n ('STATE_SC', 0.001491189515434571),\n ('IS_4TH_JULY', 0.0013889948987462685),\n ('STATE_AZ', 0.0012960301522079159),\n ('Type_CDP', 0.0012900739760191772),\n ('STATE_NC', 0.001219186008170352),\n ('STATE_CO', 0.0011570053443775681),\n ('Type_City', 0.001105479163648871),\n ('STATE_ID', 0.0010438927285485026),\n ('STATE_UT', 0.0009888856630520999),\n ('STATE_ND', 0.0009396179878492215),\n ('Type_Town', 0.0009329956278098965),\n ('STATE_AL', 0.0009154815980896451),\n ('STATE_NJ', 0.0008445773782487835),\n ('STATE_ME', 0.000828251816534886),\n ('STATE_WA', 0.0007569805981662966),\n ('STATE_LA', 0.0007413620649736577),\n ('STATE_KY', 0.0007179049223972453),\n ('STATE_SD', 0.0007141540285911153),\n ('STATE_NM', 0.0006822445603813139),\n ('STATE_MT', 0.0006229739500947582),\n ('STATE_WV', 0.000595337390262449),\n ('STATE_TN', 0.0005713974645487971),\n ('STATE_AR', 0.0005085431550633185),\n ('STATE_MN', 0.000496840559458203),\n ('STATE_WI', 0.00044485060119352785),\n ('STATE_NV', 0.0004268480934545558),\n ('STATE_IA', 0.00039952997778444713),\n ('STATE_MO', 0.00038505094836266233),\n ('Type_Village', 0.00036549579905700494),\n ('STATE_WY', 0.0003541393180182408),\n ('STATE_VA', 0.00033405057484689346),\n ('STATE_NE', 0.0002662182916441233),\n ('STATE_PA', 0.0002474771325453919),\n ('STATE_KS', 0.00021897345749893537),\n ('STATE_CT', 0.00020334802076691044),\n ('STATE_MI', 0.00019954956994222442),\n ('STATE_IL', 0.00014210121819993886),\n ('STATE_MD', 0.00012543260102074356),\n ('STATE_OH', 0.00010489419588708676),\n ('STATE_IN', 9.303454830505792e-05),\n ('Type_Community', 8.616043634051243e-05),\n ('STATE_MA', 7.880197299411164e-05),\n ('STATE_NH', 7.875857688668565e-05),\n ('STATE_RI', 4.462067362755359e-05),\n ('Type_Urban', 3.377942237622123e-05),\n ('STATE_VT', 2.076649019309064e-05),\n ('Type_County', 1.7675744025598536e-05),\n ('STATE_DE', 9.892506444051958e-06),\n ('STATE_DC', 4.778869843179238e-06)]"
     },
     "execution_count": 154,
     "metadata": {},
     "output_type": "execute_result"
    },
    {
     "data": {
      "text/plain": "<Figure size 640x480 with 1 Axes>",
      "image/png": "[encoded data removed]"
     },
     "metadata": {},
     "output_type": "display_data"
    }
   ],
   "source": [
    "rf = RandomForestClassifier(random_state=10).fit(X_train, y_train)\n",
    "rf_preds = rf.predict(X_test)\n",
    "print(\"Random Forest accuracy score is:\")\n",
    "print(accuracy_score(y_test,rf_preds))\n",
    "print(\"Random Forest F1 score is:\")\n",
    "print(classification_report(y_test,rf_preds, zero_division=0))\n",
    "\n",
    "feature_importances = sorted(list(zip(X_train.columns, rf.feature_importances_)), key=lambda x: -x[1])\n",
    "columns = list(list(zip(*feature_importances))[0])\n",
    "importances = list(list(zip(*feature_importances))[1])\n",
    "sns.barplot(x=columns, y=importances)\n",
    "feature_importances"
   ],
   "metadata": {
    "collapsed": false
   }
  },
  {
   "cell_type": "code",
   "execution_count": 156,
   "outputs": [
    {
     "data": {
      "text/plain": "['FIRE_SIZE_CLASS',\n 'LATITUDE',\n 'LONGITUDE',\n 'IS_HOLIDAY',\n 'IS_4TH_JULY',\n 'IS_WEEKEND',\n 'WEST_TO_10W',\n 'MONTH_2',\n 'MONTH_3',\n 'MONTH_4',\n 'MONTH_5',\n 'MONTH_6',\n 'MONTH_7',\n 'MONTH_8',\n 'MONTH_9',\n 'MONTH_10',\n 'MONTH_11',\n 'MONTH_12',\n 'STATE_AL',\n 'STATE_AR',\n 'STATE_AZ',\n 'STATE_CA',\n 'STATE_CO',\n 'STATE_CT',\n 'STATE_DC',\n 'STATE_DE',\n 'STATE_FL',\n 'STATE_GA',\n 'STATE_HI',\n 'STATE_IA',\n 'STATE_ID',\n 'STATE_IL',\n 'STATE_IN',\n 'STATE_KS',\n 'STATE_KY',\n 'STATE_LA',\n 'STATE_MA',\n 'STATE_MD',\n 'STATE_ME',\n 'STATE_MI',\n 'STATE_MN',\n 'STATE_MO',\n 'STATE_MS',\n 'STATE_MT',\n 'STATE_NC',\n 'STATE_ND',\n 'STATE_NE',\n 'STATE_NH',\n 'STATE_NJ',\n 'STATE_NM',\n 'STATE_NV',\n 'STATE_NY',\n 'STATE_OH',\n 'STATE_OK',\n 'STATE_OR',\n 'STATE_PA',\n 'STATE_PR',\n 'STATE_RI',\n 'STATE_SC',\n 'STATE_SD',\n 'STATE_TN',\n 'STATE_TX',\n 'STATE_UT',\n 'STATE_VA',\n 'STATE_VT',\n 'STATE_WA',\n 'STATE_WI',\n 'STATE_WV',\n 'STATE_WY',\n 'FIRE_YEAR_1993',\n 'FIRE_YEAR_1994',\n 'FIRE_YEAR_1995',\n 'FIRE_YEAR_1996',\n 'FIRE_YEAR_1997',\n 'FIRE_YEAR_1998',\n 'FIRE_YEAR_1999',\n 'FIRE_YEAR_2000',\n 'FIRE_YEAR_2001',\n 'FIRE_YEAR_2002',\n 'FIRE_YEAR_2003',\n 'FIRE_YEAR_2004',\n 'FIRE_YEAR_2005',\n 'FIRE_YEAR_2006',\n 'FIRE_YEAR_2007',\n 'FIRE_YEAR_2008',\n 'FIRE_YEAR_2009',\n 'FIRE_YEAR_2010',\n 'FIRE_YEAR_2011',\n 'FIRE_YEAR_2012',\n 'FIRE_YEAR_2013',\n 'FIRE_YEAR_2014',\n 'FIRE_YEAR_2015',\n 'IS_SOUTH_EAST',\n 'County',\n 'City',\n 'Place',\n 'ALand',\n 'AWater',\n 'Mean',\n 'Median',\n 'Stdev',\n 'sum_w',\n 'Type_CDP',\n 'Type_City',\n 'Type_Community',\n 'Type_County',\n 'Type_Town',\n 'Type_Track',\n 'Type_Urban',\n 'Type_Village',\n 'Primary_place']"
     },
     "execution_count": 156,
     "metadata": {},
     "output_type": "execute_result"
    }
   ],
   "source": [
    "list(X_train.columns)"
   ],
   "metadata": {
    "collapsed": false
   }
  },
  {
   "cell_type": "code",
   "execution_count": null,
   "outputs": [],
   "source": [],
   "metadata": {
    "collapsed": false
   }
  }
 ],
 "metadata": {
  "kernelspec": {
   "display_name": "Python 3",
   "language": "python",
   "name": "python3"
  },
  "language_info": {
   "codemirror_mode": {
    "name": "ipython",
    "version": 2
   },
   "file_extension": ".py",
   "mimetype": "text/x-python",
   "name": "python",
   "nbconvert_exporter": "python",
   "pygments_lexer": "ipython2",
   "version": "2.7.6"
  }
 },
 "nbformat": 4,
 "nbformat_minor": 0
}
