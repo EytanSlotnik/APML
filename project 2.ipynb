{
 "cells": [
  {
   "cell_type": "markdown",
   "source": [
    "# Team 6 Final Project\n",
    "Chaim Gross, Eytan Slotnik, Tomer Fried, Naftali Arnold\n",
    "## 11/01/2023"
   ],
   "metadata": {
    "collapsed": false
   }
  },
  {
   "cell_type": "markdown",
   "source": [
    "After going through the map which presents fires by their causes, and trying to create location-based features, we have gotten to see that:\n",
    "- The location-based features, which are based on data that latitude and longitude features already produce, do not improve accuracy significantly\n",
    "- The reason for that might be that latitude and longitude already explain their variance within them\n",
    "\n",
    "Therefore, we decided to swift our efforts to feature engineering which is based on data, that does not already apparent, but rather missing in the data, such as:\n",
    "- Social- Economic data, location based\n",
    "- Density of population, location based\n",
    "\n",
    "So as a start, we add these, using datasets in kaggle, which occur in the US at similar times:"
   ],
   "metadata": {
    "collapsed": false
   }
  },
  {
   "cell_type": "code",
   "execution_count": 30,
   "outputs": [],
   "source": [
    "import pandas as pd\n",
    "import sqlite3\n",
    "from sklearn.linear_model import LinearRegression\n",
    "from sklearn.model_selection import train_test_split\n",
    "import plotly.express as px\n",
    "import numpy as np\n",
    "import datetime\n",
    "import seaborn as sns\n",
    "from sklearn.metrics import classification_report\n",
    "from sklearn.ensemble import RandomForestClassifier\n",
    "from sklearn.metrics import accuracy_score\n",
    "from mpl_toolkits.basemap import Basemap\n",
    "import matplotlib.pyplot as plt\n",
    "import folium\n",
    "import xgboost as xgb\n",
    "from tensorflow.keras.utils import to_categorical\n",
    "import rtree\n",
    "import haversine\n",
    "from sklearn import preprocessing"
   ],
   "metadata": {
    "collapsed": false
   }
  },
  {
   "cell_type": "code",
   "execution_count": 43,
   "outputs": [],
   "source": [
    "def create_date_faetures(df):\n",
    "    \"\"\"\n",
    "    creates data features from YEAR and DOY.\n",
    "    create a new column of date which is calculated from FIRE_YEAR and DISCOVERY_DOY, and extract from there features\n",
    "    :param df: data\n",
    "    :return: a new dataframe containing only the features we added\n",
    "    \"\"\"\n",
    "    from pandas.tseries.holiday import USFederalHolidayCalendar as calendar\n",
    "\n",
    "    features = pd.DataFrame()\n",
    "    df[\"DISCOVERY_DATE\"] = pd.to_datetime(df['FIRE_YEAR'] * 1000 + df['DISCOVERY_DOY'], format='%Y%j')\n",
    "    cal = calendar()\n",
    "\n",
    "    # is holiday feature\n",
    "    holidays = cal.holidays(start=df[\"DISCOVERY_DATE\"].min(), end=df[\"DISCOVERY_DATE\"].max())\n",
    "    features['IS_HOLIDAY'] = df['DISCOVERY_DATE'].isin(holidays).astype(int)\n",
    "\n",
    "    # is fourth of july feature\n",
    "    features['IS_4TH_JULY'] = df['DISCOVERY_DATE'].apply(lambda date: 1 if date.strftime(\"%B %d\") == \"July 04\" else 0)\n",
    "\n",
    "    # is weekend feature\n",
    "    features['IS_WEEKEND'] = dayofweek = df[\"DISCOVERY_DATE\"].dt.dayofweek\n",
    "    features['IS_WEEKEND'][dayofweek >= 5] = 1\n",
    "    features['IS_WEEKEND'][dayofweek < 5]  = 0\n",
    "\n",
    "    features[\"WEST_TO_10W\"] = np.where(df['LONGITUDE'] >= -100, 1, 0)\n",
    "\n",
    "    # month dummies\n",
    "    month_dummies = pd.get_dummies(df[\"DISCOVERY_DATE\"].dt.month, prefix=\"MONTH\", drop_first=True)\n",
    "    features = pd.concat([features, month_dummies], axis=1)\n",
    "\n",
    "    return features\n",
    "\n"
   ],
   "metadata": {
    "collapsed": false
   }
  },
  {
   "cell_type": "code",
   "execution_count": 44,
   "outputs": [],
   "source": [
    "def add_density_features(df):\n",
    "\n",
    "    us_state_to_abbrev = {\n",
    "        \"Alabama\": \"AL\",\n",
    "        \"Alaska\": \"AK\",\n",
    "        \"Arizona\": \"AZ\",\n",
    "        \"Arkansas\": \"AR\",\n",
    "        \"California\": \"CA\",\n",
    "        \"Colorado\": \"CO\",\n",
    "        \"Connecticut\": \"CT\",\n",
    "        \"Delaware\": \"DE\",\n",
    "        \"Florida\": \"FL\",\n",
    "        \"Georgia\": \"GA\",\n",
    "        \"Hawaii\": \"HI\",\n",
    "        \"Idaho\": \"ID\",\n",
    "        \"Illinois\": \"IL\",\n",
    "        \"Indiana\": \"IN\",\n",
    "        \"Iowa\": \"IA\",\n",
    "        \"Kansas\": \"KS\",\n",
    "        \"Kentucky\": \"KY\",\n",
    "        \"Louisiana\": \"LA\",\n",
    "        \"Maine\": \"ME\",\n",
    "        \"Maryland\": \"MD\",\n",
    "        \"Massachusetts\": \"MA\",\n",
    "        \"Michigan\": \"MI\",\n",
    "        \"Minnesota\": \"MN\",\n",
    "        \"Mississippi\": \"MS\",\n",
    "        \"Missouri\": \"MO\",\n",
    "        \"Montana\": \"MT\",\n",
    "        \"Nebraska\": \"NE\",\n",
    "        \"Nevada\": \"NV\",\n",
    "        \"New Hampshire\": \"NH\",\n",
    "        \"New Jersey\": \"NJ\",\n",
    "        \"New Mexico\": \"NM\",\n",
    "        \"New York\": \"NY\",\n",
    "        \"North Carolina\": \"NC\",\n",
    "        \"North Dakota\": \"ND\",\n",
    "        \"Ohio\": \"OH\",\n",
    "        \"Oklahoma\": \"OK\",\n",
    "        \"Oregon\": \"OR\",\n",
    "        \"Pennsylvania\": \"PA\",\n",
    "        \"Rhode Island\": \"RI\",\n",
    "        \"South Carolina\": \"SC\",\n",
    "        \"South Dakota\": \"SD\",\n",
    "        \"Tennessee\": \"TN\",\n",
    "        \"Texas\": \"TX\",\n",
    "        \"Utah\": \"UT\",\n",
    "        \"Vermont\": \"VT\",\n",
    "        \"Virginia\": \"VA\",\n",
    "        \"Washington\": \"WA\",\n",
    "        \"West Virginia\": \"WV\",\n",
    "        \"Wisconsin\": \"WI\",\n",
    "        \"Wyoming\": \"WY\",\n",
    "        \"District of Columbia\": \"DC\",\n",
    "        \"American Samoa\": \"AS\",\n",
    "        \"Guam\": \"GU\",\n",
    "        \"Northern Mariana Islands\": \"MP\",\n",
    "        \"Puerto Rico\": \"PR\",\n",
    "        \"United States Minor Outlying Islands\": \"UM\",\n",
    "        \"U.S. Virgin Islands\": \"VI\",\n",
    "    }\n",
    "    us_abbrev_to_state = {v: k for k, v in us_state_to_abbrev.items()}\n",
    "\n",
    "    density_df = pd.read_csv(\"apportionment.csv\")\n",
    "\n",
    "    df[\"ROUNDED_YEAR\"] = df[\"FIRE_YEAR\"].apply(lambda x: (x//10) * 10)\n",
    "    df[\"DENSITY\"] = df.apply(\n",
    "        lambda row: density_df[(density_df[\"Name\"] == us_abbrev_to_state[row[\"STATE\"]]) &\n",
    "                               (density_df[\"Year\"] == row[\"ROUNDED_YEAR\"])][[\"Resident Population Density\"]].values[0, 0], axis=1).values\n",
    "\n",
    "    return df"
   ],
   "metadata": {
    "collapsed": false
   }
  },
  {
   "cell_type": "code",
   "execution_count": 45,
   "outputs": [],
   "source": [
    "def pre_process_data(data):\n",
    "    data = add_density_features(data)\n",
    "    features = create_date_faetures(data)\n",
    "    data = data.merge(features, left_index=True, right_index=True)\n",
    "\n",
    "    # One-Hot Encoding\n",
    "    for f in ['STATE', 'FIRE_YEAR']: # add months\n",
    "        data = pd.get_dummies(data,prefix=[f], columns = [f], drop_first=True)\n",
    "\n",
    "    # Ordinal Encoding\n",
    "    from sklearn import preprocessing\n",
    "    le = preprocessing.LabelEncoder()\n",
    "    le.fit(data['FIRE_SIZE_CLASS'])\n",
    "    data['FIRE_SIZE_CLASS'] = le.transform(data['FIRE_SIZE_CLASS']) + 1\n",
    "\n",
    "    def is_south_east_state(df):\n",
    "        return df[\"STATE_FL\"]+df[\"STATE_AL\"]+df[\"STATE_GA\"]+df[\"STATE_SC\"]+df[\"STATE_MS\"]+df[\"STATE_TN\"]+df[\"STATE_NC\"]\n",
    "\n",
    "    data[\"IS_SOUTH_EAST\"] = np.where(is_south_east_state(data) == 1, 1, 0)\n",
    "\n",
    "    columns_to_drop = ['OBJECTID', 'FOD_ID', 'FPA_ID', 'NWCG_REPORTING_UNIT_ID',\n",
    "               'NWCG_REPORTING_UNIT_NAME', 'SOURCE_REPORTING_UNIT', 'SOURCE_REPORTING_UNIT_NAME', 'LOCAL_FIRE_REPORT_ID',\n",
    "               'LOCAL_INCIDENT_ID', 'FIRE_CODE', 'FIRE_NAME', 'ICS_209_INCIDENT_NUMBER', 'ICS_209_NAME', 'MTBS_ID', 'MTBS_FIRE_NAME','COMPLEX_NAME', 'OWNER_CODE', 'COUNTY', 'FIPS_CODE', 'FIPS_NAME', \"Shape\", \"DISCOVERY_TIME\", \"CONT_TIME\",\n",
    "               \"OWNER_DESCR\", \"DISCOVERY_DATE\", \"DISCOVERY_DOY\", \"CONT_DOY\", \"CONT_DATE\", \"FIRE_SIZE\",\n",
    "                \"SOURCE_SYSTEM\", \"SOURCE_SYSTEM_TYPE\", \"NWCG_REPORTING_AGENCY\", \"STAT_CAUSE_DESCR\"]\n",
    "\n",
    "    data = data.drop(columns = columns_to_drop)\n",
    "\n",
    "    return data\n",
    "\n"
   ],
   "metadata": {
    "collapsed": false
   }
  },
  {
   "cell_type": "code",
   "execution_count": 46,
   "outputs": [
    {
     "name": "stderr",
     "output_type": "stream",
     "text": [
      "C:\\Users\\t-tomerfried\\AppData\\Local\\Temp\\ipykernel_3672\\2807412305.py:23: SettingWithCopyWarning: \n",
      "A value is trying to be set on a copy of a slice from a DataFrame\n",
      "\n",
      "See the caveats in the documentation: https://pandas.pydata.org/pandas-docs/stable/user_guide/indexing.html#returning-a-view-versus-a-copy\n",
      "  features['IS_WEEKEND'][dayofweek >= 5] = 1\n",
      "C:\\Users\\t-tomerfried\\AppData\\Local\\Temp\\ipykernel_3672\\2807412305.py:24: SettingWithCopyWarning: \n",
      "A value is trying to be set on a copy of a slice from a DataFrame\n",
      "\n",
      "See the caveats in the documentation: https://pandas.pydata.org/pandas-docs/stable/user_guide/indexing.html#returning-a-view-versus-a-copy\n",
      "  features['IS_WEEKEND'][dayofweek < 5]  = 0\n",
      "C:\\Users\\t-tomerfried\\AppData\\Local\\Temp\\ipykernel_3672\\2807412305.py:23: SettingWithCopyWarning: \n",
      "A value is trying to be set on a copy of a slice from a DataFrame\n",
      "\n",
      "See the caveats in the documentation: https://pandas.pydata.org/pandas-docs/stable/user_guide/indexing.html#returning-a-view-versus-a-copy\n",
      "  features['IS_WEEKEND'][dayofweek >= 5] = 1\n",
      "C:\\Users\\t-tomerfried\\AppData\\Local\\Temp\\ipykernel_3672\\2807412305.py:24: SettingWithCopyWarning: \n",
      "A value is trying to be set on a copy of a slice from a DataFrame\n",
      "\n",
      "See the caveats in the documentation: https://pandas.pydata.org/pandas-docs/stable/user_guide/indexing.html#returning-a-view-versus-a-copy\n",
      "  features['IS_WEEKEND'][dayofweek < 5]  = 0\n"
     ]
    }
   ],
   "source": [
    "conn = sqlite3.connect('FPA_FOD_20170508.sqlite')\n",
    "raw_df = pd.read_sql_query(\"SELECT * from Fires\", conn)\n",
    "raw_df[\"STAT_CAUSE_CODE\"] = raw_df[\"STAT_CAUSE_CODE\"].astype(int)\n",
    "X, y = raw_df.drop(columns = [\"STAT_CAUSE_CODE\"]), raw_df.filter(items = [\"STAT_CAUSE_CODE\"])\n",
    "X_train, X_test, y_train, y_test = train_test_split(X, y, test_size = 0.25, random_state=1)\n",
    "df = X_train.merge(y_train, left_index=True, right_index=True)\n",
    "X_train = pre_process_data(X_train)\n",
    "X_test = pre_process_data(X_test)"
   ],
   "metadata": {
    "collapsed": false
   }
  },
  {
   "cell_type": "code",
   "execution_count": 47,
   "outputs": [],
   "source": [
    "income_df = pd.read_csv(\"kaggle_income.csv\", encoding=\"latin1\").drop_duplicates(subset=['Lat', \"Lon\"])\n",
    "income_locations = [(row[\"Lat\"], row[\"Lon\"]) for _, row in income_df.iterrows()]"
   ],
   "metadata": {
    "collapsed": false
   }
  },
  {
   "cell_type": "code",
   "execution_count": 48,
   "outputs": [],
   "source": [
    "def create_index(locations):\n",
    "    index = rtree.index.Index()\n",
    "    for i, location in enumerate(locations):\n",
    "        index.insert(i, location)\n",
    "    return index\n",
    "\n",
    "index = create_index(income_locations)\n",
    "def add_income_features(df):\n",
    "\n",
    "    def find_closest_location(target_row):\n",
    "        target_location = (target_row[\"LATITUDE\"], target_row[\"LONGITUDE\"])\n",
    "        closest_location = None\n",
    "        closest_distance = float(\"inf\")\n",
    "        for i in index.nearest(target_location, 1):\n",
    "            location = income_locations[i]\n",
    "            distance = haversine.haversine(location, target_location)\n",
    "            if distance < closest_distance:\n",
    "                closest_location = location\n",
    "                closest_distance = distance\n",
    "        return closest_location\n",
    "\n",
    "    df[\"closest_location\"] = df.apply(find_closest_location, axis=1)\n",
    "\n",
    "    df[['Lat', 'Lon']] = df[\"closest_location\"].apply(lambda x: pd.Series(x))\n",
    "    df = pd.merge(df, income_df, on=['Lat', 'Lon'], how=\"left\")\n",
    "    df = df.drop(columns = ['id', 'State_Code', 'State_Name', 'State_ab', 'Zip_Code', 'Area_Code', 'Lat', \"Lon\", 'closest_location'])\n",
    "    return df"
   ],
   "metadata": {
    "collapsed": false
   }
  },
  {
   "cell_type": "code",
   "execution_count": 49,
   "outputs": [],
   "source": [
    "X_train = add_income_features(X_train)\n",
    "X_test = add_income_features(X_test)"
   ],
   "metadata": {
    "collapsed": false
   }
  },
  {
   "cell_type": "code",
   "execution_count": 50,
   "outputs": [],
   "source": [
    "def encode_income_columns(data):\n",
    "    # One-Hot Encoding\n",
    "    for f in ['Type', 'Primary']:\n",
    "        data = pd.get_dummies(data,prefix=[f], columns = [f], drop_first=True)\n",
    "\n",
    "    # Ordinal Encoding\n",
    "    le = preprocessing.LabelEncoder()\n",
    "    for c in ['County', 'City', 'Place']:\n",
    "        le.fit(data[c])\n",
    "        data[c] = le.transform(data[c]) + 1\n",
    "\n",
    "    return data"
   ],
   "metadata": {
    "collapsed": false
   }
  },
  {
   "cell_type": "code",
   "execution_count": 51,
   "outputs": [],
   "source": [
    "X_train = encode_income_columns(X_train)\n",
    "X_test = encode_income_columns(X_test)"
   ],
   "metadata": {
    "collapsed": false
   }
  },
  {
   "cell_type": "code",
   "execution_count": 73,
   "outputs": [],
   "source": [
    "X_train['DENSITY'] = X_train['DENSITY'].str.replace(',','').astype(float)\n",
    "X_test['DENSITY'] = X_test['DENSITY'].str.replace(',','').astype(float)"
   ],
   "metadata": {
    "collapsed": false
   }
  },
  {
   "cell_type": "code",
   "execution_count": 74,
   "outputs": [
    {
     "name": "stderr",
     "output_type": "stream",
     "text": [
      "C:\\Users\\t-tomerfried\\AppData\\Local\\Temp\\ipykernel_3672\\1897862076.py:1: DataConversionWarning: A column-vector y was passed when a 1d array was expected. Please change the shape of y to (n_samples,), for example using ravel().\n",
      "  rf = RandomForestClassifier(random_state=10).fit(X_train, y_train)\n"
     ]
    },
    {
     "name": "stdout",
     "output_type": "stream",
     "text": [
      "Random Forest accuracy score is:\n",
      "0.5525442548466555\n",
      "Random Forest F1 score is:\n",
      "              precision    recall  f1-score   support\n",
      "\n",
      "           1       0.70      0.80      0.75     23271\n",
      "           2       0.37      0.25      0.29     12469\n",
      "           3       0.21      0.06      0.09      4428\n",
      "           4       0.43      0.25      0.32      6387\n",
      "           5       0.50      0.67      0.58     35799\n",
      "           6       0.47      0.41      0.44      2753\n",
      "           7       0.54      0.51      0.52     23178\n",
      "           8       0.30      0.13      0.18      5139\n",
      "           9       0.48      0.51      0.50     26972\n",
      "          10       0.53      0.36      0.43       994\n",
      "          11       0.20      0.06      0.09      1177\n",
      "          12       0.09      0.02      0.03       310\n",
      "          13       0.84      0.83      0.83     13829\n",
      "\n",
      "    accuracy                           0.55    156706\n",
      "   macro avg       0.44      0.37      0.39    156706\n",
      "weighted avg       0.53      0.55      0.53    156706\n",
      "\n"
     ]
    },
    {
     "data": {
      "text/plain": "[('LONGITUDE', 0.13646647461673142),\n ('LATITUDE', 0.12509708493219115),\n ('DENSITY', 0.04537847207655675),\n ('ALand', 0.04391758514142704),\n ('Mean', 0.038088294642434385),\n ('Stdev', 0.037811535184583994),\n ('sum_w', 0.03759386879162739),\n ('City', 0.03640638200102585),\n ('Median', 0.03625471198452609),\n ('AWater', 0.03532236109780148),\n ('FIRE_SIZE_CLASS', 0.03216036520071566),\n ('IS_WEEKEND', 0.024469831749215347),\n ('ROUNDED_YEAR', 0.01962873760653393),\n ('County', 0.016137933529474787),\n ('Place', 0.01579612296006692),\n ('WEST_TO_10W', 0.012011470255000534),\n ('MONTH_8', 0.011953467249975501),\n ('MONTH_7', 0.011640375082107765),\n ('MONTH_4', 0.01095835932427063),\n ('MONTH_6', 0.010098902891502247),\n ('MONTH_3', 0.009692375487903322),\n ('MONTH_5', 0.009479468690322528),\n ('FIRE_YEAR_2007', 0.008776339225271998),\n ('MONTH_9', 0.00843826152548281),\n ('MONTH_10', 0.008114423156686472),\n ('FIRE_YEAR_2008', 0.008094600436841817),\n ('FIRE_YEAR_2006', 0.007705922447932372),\n ('FIRE_YEAR_2009', 0.007557541879593412),\n ('FIRE_YEAR_1999', 0.00745474968060526),\n ('FIRE_YEAR_2005', 0.007181435922705681),\n ('MONTH_2', 0.007146367652405749),\n ('FIRE_YEAR_2000', 0.007021900907656425),\n ('MONTH_11', 0.006818997431115689),\n ('FIRE_YEAR_2011', 0.0066866721477306474),\n ('FIRE_YEAR_2001', 0.00641029416246279),\n ('FIRE_YEAR_1997', 0.006128485327463099),\n ('FIRE_YEAR_1998', 0.0060784874420679045),\n ('FIRE_YEAR_2002', 0.005991781321756059),\n ('FIRE_YEAR_1996', 0.0058555958093376706),\n ('FIRE_YEAR_1995', 0.005813263051627898),\n ('FIRE_YEAR_1994', 0.005762000539462606),\n ('FIRE_YEAR_2004', 0.005518901166784417),\n ('IS_SOUTH_EAST', 0.005434035617527488),\n ('FIRE_YEAR_2010', 0.005377499016500757),\n ('FIRE_YEAR_2003', 0.005362888983312451),\n ('FIRE_YEAR_1993', 0.005354598472997574),\n ('FIRE_YEAR_2015', 0.004892205463098564),\n ('MONTH_12', 0.004795357873081079),\n ('FIRE_YEAR_2012', 0.00476884280524478),\n ('IS_HOLIDAY', 0.004598587850444778),\n ('FIRE_YEAR_2014', 0.0045647697103293975),\n ('FIRE_YEAR_2013', 0.004515850536185073),\n ('STATE_NY', 0.0043459564261147995),\n ('STATE_GA', 0.004121632719778396),\n ('STATE_FL', 0.0030677139167468006),\n ('STATE_CA', 0.003007410484868448),\n ('STATE_TX', 0.002958264783990013),\n ('STATE_PR', 0.002951164809597737),\n ('STATE_MS', 0.001899138666805007),\n ('STATE_OK', 0.0018953557529286466),\n ('Type_Track', 0.001893112872833164),\n ('STATE_SC', 0.0018179259404005623),\n ('Primary_place', 0.0017677358909086126),\n ('STATE_HI', 0.0015338375722383636),\n ('Type_CDP', 0.001412621746968488),\n ('IS_4TH_JULY', 0.0013578899683367282),\n ('STATE_NC', 0.0012626427822097425),\n ('Type_City', 0.0012047796646916787),\n ('STATE_CO', 0.0010431945286131128),\n ('STATE_AZ', 0.0010420702820640587),\n ('Type_Town', 0.0010141597750854498),\n ('STATE_OR', 0.0009842407455970727),\n ('STATE_ND', 0.0009542512044098953),\n ('STATE_ID', 0.00091998008392635),\n ('STATE_AL', 0.000918075468863103),\n ('STATE_LA', 0.0008640955012895927),\n ('STATE_ME', 0.0008015315485925722),\n ('STATE_KY', 0.0007740052024689235),\n ('STATE_UT', 0.0007580399039423956),\n ('STATE_SD', 0.0006869525461536182),\n ('STATE_NJ', 0.0006288927511439241),\n ('STATE_WA', 0.0005607229728536528),\n ('STATE_NM', 0.0005322056296362835),\n ('STATE_TN', 0.0005001136157992448),\n ('STATE_MN', 0.0004854338596649367),\n ('STATE_MT', 0.00048256166001062596),\n ('STATE_WV', 0.0004636737773948238),\n ('STATE_WI', 0.0004534572916138234),\n ('STATE_AR', 0.00043060673685057073),\n ('Type_Village', 0.00036958487822890735),\n ('STATE_IA', 0.0003631162959016784),\n ('STATE_NV', 0.0003346514289913104),\n ('STATE_MO', 0.0003216204092479724),\n ('STATE_VA', 0.0003199702171406775),\n ('STATE_WY', 0.0002716894199382395),\n ('STATE_NE', 0.0002596888718474121),\n ('STATE_PA', 0.00019884397457148347),\n ('STATE_MI', 0.00017314580577194457),\n ('STATE_CT', 0.00016676676033521132),\n ('STATE_KS', 0.00016493716887833643),\n ('STATE_MD', 0.00012276556277791815),\n ('STATE_IL', 0.00011926514374578091),\n ('STATE_IN', 8.378973058761046e-05),\n ('STATE_OH', 7.997727583222902e-05),\n ('STATE_NH', 6.537614836136758e-05),\n ('Type_Community', 5.9247808048433765e-05),\n ('STATE_MA', 5.66094167421962e-05),\n ('STATE_RI', 3.724404756098651e-05),\n ('STATE_VT', 1.7917394344543356e-05),\n ('Type_County', 1.776053616119186e-05),\n ('STATE_DE', 7.79031293843908e-06),\n ('STATE_DC', 4.99059874247486e-06),\n ('Type_Urban', 2.9636482049532037e-06)]"
     },
     "execution_count": 74,
     "metadata": {},
     "output_type": "execute_result"
    },
    {
     "data": {
      "text/plain": "<Figure size 640x480 with 1 Axes>",
      "image/png": "[encoded data removed]"
     },
     "metadata": {},
     "output_type": "display_data"
    }
   ],
   "source": [
    "rf = RandomForestClassifier(random_state=10).fit(X_train, y_train)\n",
    "rf_preds = rf.predict(X_test)\n",
    "print(\"Random Forest accuracy score is:\")\n",
    "print(accuracy_score(y_test,rf_preds))\n",
    "print(\"Random Forest F1 score is:\")\n",
    "print(classification_report(y_test,rf_preds, zero_division=0))\n",
    "\n",
    "feature_importances = sorted(list(zip(X_train.columns, rf.feature_importances_)), key=lambda x: -x[1])\n",
    "columns = list(list(zip(*feature_importances))[0])\n",
    "importances = list(list(zip(*feature_importances))[1])\n",
    "sns.barplot(x=columns, y=importances)\n",
    "feature_importances"
   ],
   "metadata": {
    "collapsed": false
   }
  },
  {
   "cell_type": "markdown",
   "source": [
    "Wow, an improvement of approximately 3 percent in accuracy. All labels' f1 scores where improved.\n",
    "Looks like we should continue with this idea in mind, now by adding rainfall data in each state: mean monthly amount of precipitation in a wide range of years:"
   ],
   "metadata": {
    "collapsed": false
   }
  },
  {
   "cell_type": "code",
   "execution_count": 159,
   "outputs": [
    {
     "name": "stderr",
     "output_type": "stream",
     "text": [
      "C:\\Users\\t-tomerfried\\AppData\\Local\\Temp\\ipykernel_3672\\173076679.py:60: FutureWarning: The default value of numeric_only in DataFrameGroupBy.mean is deprecated. In a future version, numeric_only will default to False. Either specify numeric_only or select only columns which should be valid for the function.\n",
      "  mean_df = grouped_df.mean().reset_index().filter(items=['STATE_ABB','MONTH','rainfall'])\n"
     ]
    }
   ],
   "source": [
    "rainfall_data = pd.read_csv(\"daily_rainfall_flags_removed.csv\")\n",
    "fips_code_to_abbreviation = {\n",
    "    '01': 'AL',\n",
    "    '02': 'AK',\n",
    "    '04': 'AZ',\n",
    "    '05': 'AR',\n",
    "    '06': 'CA',\n",
    "    '08': 'CO',\n",
    "    '09': 'CT',\n",
    "    '10': 'DE',\n",
    "    '11': 'DC',\n",
    "    '12': 'FL',\n",
    "    '13': 'GA',\n",
    "    '15': 'HI',\n",
    "    '16': 'ID',\n",
    "    '17': 'IL',\n",
    "    '18': 'IN',\n",
    "    '19': 'IA',\n",
    "    '20': 'KS',\n",
    "    '21': 'KY',\n",
    "    '22': 'LA',\n",
    "    '23': 'ME',\n",
    "    '24': 'MD',\n",
    "    '25': 'MA',\n",
    "    '26': 'MI',\n",
    "    '27': 'MN',\n",
    "    '28': 'MS',\n",
    "    '29': 'MO',\n",
    "    '30': 'MT',\n",
    "    '31': 'NE',\n",
    "    '32': 'NV',\n",
    "    '33': 'NH',\n",
    "    '34': 'NJ',\n",
    "    '35': 'NM',\n",
    "    '36': 'NY',\n",
    "    '37': 'NC',\n",
    "    '38': 'ND',\n",
    "    '39': 'OH',\n",
    "    '40': 'OK',\n",
    "    '41': 'OR',\n",
    "    '42': 'PA',\n",
    "    '44': 'RI',\n",
    "    '45': 'SC',\n",
    "    '46': 'SD',\n",
    "    '47': 'TN',\n",
    "    '48': 'TX',\n",
    "    '49': 'UT',\n",
    "    '50': 'VT',\n",
    "    '51': 'VA',\n",
    "    '53': 'WA',\n",
    "    '54': 'WV',\n",
    "    '55': 'WI',\n",
    "    '56': 'WY',\n",
    "}\n",
    "rainfall_data[\"state_code\"] = rainfall_data[\"state_code\"].astype(str)\n",
    "rainfall_data[\"STATE_ABB\"] = rainfall_data['state_code'].map(fips_code_to_abbreviation).astype(str)\n",
    "rainfall_data[\"date\"]= pd.to_datetime(rainfall_data[\"date\"])\n",
    "rainfall_data['MONTH'] = rainfall_data['date'].dt.month.astype(int)\n",
    "grouped_df = rainfall_data.groupby(['STATE_ABB','MONTH'])\n",
    "mean_df = grouped_df.mean().reset_index().filter(items=['STATE_ABB','MONTH','rainfall'])"
   ],
   "metadata": {
    "collapsed": false
   }
  },
  {
   "cell_type": "code",
   "execution_count": 154,
   "outputs": [],
   "source": [
    "def add_state_abb_col(df):\n",
    "    # Extract only the state columns\n",
    "    state_cols = [col for col in df.columns if col.startswith(\"STATE_\")]\n",
    "    df_state_cols = df[state_cols]\n",
    "\n",
    "    # Find the column with the \"1\" value for each row\n",
    "    new_df = df.copy(True)\n",
    "    new_df['STATE_ABB'] = df_state_cols.idxmax(axis=1).str.slice(start=6).astype(str)\n",
    "    return new_df"
   ],
   "metadata": {
    "collapsed": false
   }
  },
  {
   "cell_type": "code",
   "execution_count": 153,
   "outputs": [],
   "source": [
    "def add_month_col(df):\n",
    "    # Extract only the state columns\n",
    "    months_cols = [col for col in df.columns if col.startswith(\"MONTH_\")]\n",
    "    df_months_cols = df[months_cols]\n",
    "\n",
    "    # Find the column with the \"1\" value for each row\n",
    "    new_df = df.copy(True)\n",
    "    new_df['MONTH'] = df_months_cols.idxmax(axis=1).str.slice(start=6).astype(int)\n",
    "    return new_df"
   ],
   "metadata": {
    "collapsed": false
   }
  },
  {
   "cell_type": "code",
   "execution_count": 157,
   "outputs": [],
   "source": [
    "X_train = add_state_abb_col(X_train)\n",
    "X_train = add_month_col(X_train)"
   ],
   "metadata": {
    "collapsed": false
   }
  },
  {
   "cell_type": "code",
   "execution_count": 160,
   "outputs": [
    {
     "data": {
      "text/plain": "        FIRE_SIZE_CLASS   LATITUDE   LONGITUDE  ROUNDED_YEAR  DENSITY  \\\n0                     2  31.248900  -93.176700          2000    103.4   \n1                     2  34.816700  -79.433300          2000    165.6   \n2                     2  38.697800 -112.172580          2000     27.2   \n3                     1  48.256667 -115.970000          2000      6.2   \n4                     2  33.218889 -117.128889          1990    191.0   \n...                 ...        ...         ...           ...      ...   \n470111                1  33.881111 -117.218056          2000    217.4   \n470112                1  33.851389 -110.882500          2000     45.2   \n470113                2  33.641500  -84.794400          1990    112.6   \n470114                1  33.350000  -80.783300          2000    133.5   \n470115                1  45.237700 -113.919200          2000     15.7   \n\n        IS_HOLIDAY  IS_4TH_JULY  IS_WEEKEND  WEST_TO_10W  MONTH_2  ...  \\\n0                0            0           0            1        1  ...   \n1                0            0           0            1        1  ...   \n2                0            0           0            0        0  ...   \n3                0            0           0            0        0  ...   \n4                0            0           0            0        0  ...   \n...            ...          ...         ...          ...      ...  ...   \n470111           0            0           1            0        0  ...   \n470112           0            0           0            0        0  ...   \n470113           0            0           1            1        0  ...   \n470114           0            0           0            1        0  ...   \n470115           0            0           0            0        0  ...   \n\n        Type_Community  Type_County  Type_Town  Type_Track  Type_Urban  \\\n0                    0            0          0           0           0   \n1                    0            0          0           1           0   \n2                    0            0          0           0           0   \n3                    0            0          0           0           0   \n4                    0            0          0           1           0   \n...                ...          ...        ...         ...         ...   \n470111               0            0          0           1           0   \n470112               0            0          0           1           0   \n470113               0            0          0           1           0   \n470114               0            0          0           1           0   \n470115               0            0          0           0           0   \n\n        Type_Village  Primary_place  STATE_ABB  MONTH   rainfall  \n0                  0              1         LA      2  56.069140  \n1                  0              0         NC      2        NaN  \n2                  0              1         UT      7        NaN  \n3                  0              1         MT      8  35.878389  \n4                  0              0         CA      7        NaN  \n...              ...            ...        ...    ...        ...  \n470111             0              0         CA      9        NaN  \n470112             0              0         AZ      7        NaN  \n470113             0              0         GA      3  23.320312  \n470114             0              0         SC      6  27.230679  \n470115             0              1         ID      8  43.028169  \n\n[470116 rows x 116 columns]",
      "text/html": "<div>\n<style scoped>\n    .dataframe tbody tr th:only-of-type {\n        vertical-align: middle;\n    }\n\n    .dataframe tbody tr th {\n        vertical-align: top;\n    }\n\n    .dataframe thead th {\n        text-align: right;\n    }\n</style>\n<table border=\"1\" class=\"dataframe\">\n  <thead>\n    <tr style=\"text-align: right;\">\n      <th></th>\n      <th>FIRE_SIZE_CLASS</th>\n      <th>LATITUDE</th>\n      <th>LONGITUDE</th>\n      <th>ROUNDED_YEAR</th>\n      <th>DENSITY</th>\n      <th>IS_HOLIDAY</th>\n      <th>IS_4TH_JULY</th>\n      <th>IS_WEEKEND</th>\n      <th>WEST_TO_10W</th>\n      <th>MONTH_2</th>\n      <th>...</th>\n      <th>Type_Community</th>\n      <th>Type_County</th>\n      <th>Type_Town</th>\n      <th>Type_Track</th>\n      <th>Type_Urban</th>\n      <th>Type_Village</th>\n      <th>Primary_place</th>\n      <th>STATE_ABB</th>\n      <th>MONTH</th>\n      <th>rainfall</th>\n    </tr>\n  </thead>\n  <tbody>\n    <tr>\n      <th>0</th>\n      <td>2</td>\n      <td>31.248900</td>\n      <td>-93.176700</td>\n      <td>2000</td>\n      <td>103.4</td>\n      <td>0</td>\n      <td>0</td>\n      <td>0</td>\n      <td>1</td>\n      <td>1</td>\n      <td>...</td>\n      <td>0</td>\n      <td>0</td>\n      <td>0</td>\n      <td>0</td>\n      <td>0</td>\n      <td>0</td>\n      <td>1</td>\n      <td>LA</td>\n      <td>2</td>\n      <td>56.069140</td>\n    </tr>\n    <tr>\n      <th>1</th>\n      <td>2</td>\n      <td>34.816700</td>\n      <td>-79.433300</td>\n      <td>2000</td>\n      <td>165.6</td>\n      <td>0</td>\n      <td>0</td>\n      <td>0</td>\n      <td>1</td>\n      <td>1</td>\n      <td>...</td>\n      <td>0</td>\n      <td>0</td>\n      <td>0</td>\n      <td>1</td>\n      <td>0</td>\n      <td>0</td>\n      <td>0</td>\n      <td>NC</td>\n      <td>2</td>\n      <td>NaN</td>\n    </tr>\n    <tr>\n      <th>2</th>\n      <td>2</td>\n      <td>38.697800</td>\n      <td>-112.172580</td>\n      <td>2000</td>\n      <td>27.2</td>\n      <td>0</td>\n      <td>0</td>\n      <td>0</td>\n      <td>0</td>\n      <td>0</td>\n      <td>...</td>\n      <td>0</td>\n      <td>0</td>\n      <td>0</td>\n      <td>0</td>\n      <td>0</td>\n      <td>0</td>\n      <td>1</td>\n      <td>UT</td>\n      <td>7</td>\n      <td>NaN</td>\n    </tr>\n    <tr>\n      <th>3</th>\n      <td>1</td>\n      <td>48.256667</td>\n      <td>-115.970000</td>\n      <td>2000</td>\n      <td>6.2</td>\n      <td>0</td>\n      <td>0</td>\n      <td>0</td>\n      <td>0</td>\n      <td>0</td>\n      <td>...</td>\n      <td>0</td>\n      <td>0</td>\n      <td>0</td>\n      <td>0</td>\n      <td>0</td>\n      <td>0</td>\n      <td>1</td>\n      <td>MT</td>\n      <td>8</td>\n      <td>35.878389</td>\n    </tr>\n    <tr>\n      <th>4</th>\n      <td>2</td>\n      <td>33.218889</td>\n      <td>-117.128889</td>\n      <td>1990</td>\n      <td>191.0</td>\n      <td>0</td>\n      <td>0</td>\n      <td>0</td>\n      <td>0</td>\n      <td>0</td>\n      <td>...</td>\n      <td>0</td>\n      <td>0</td>\n      <td>0</td>\n      <td>1</td>\n      <td>0</td>\n      <td>0</td>\n      <td>0</td>\n      <td>CA</td>\n      <td>7</td>\n      <td>NaN</td>\n    </tr>\n    <tr>\n      <th>...</th>\n      <td>...</td>\n      <td>...</td>\n      <td>...</td>\n      <td>...</td>\n      <td>...</td>\n      <td>...</td>\n      <td>...</td>\n      <td>...</td>\n      <td>...</td>\n      <td>...</td>\n      <td>...</td>\n      <td>...</td>\n      <td>...</td>\n      <td>...</td>\n      <td>...</td>\n      <td>...</td>\n      <td>...</td>\n      <td>...</td>\n      <td>...</td>\n      <td>...</td>\n      <td>...</td>\n    </tr>\n    <tr>\n      <th>470111</th>\n      <td>1</td>\n      <td>33.881111</td>\n      <td>-117.218056</td>\n      <td>2000</td>\n      <td>217.4</td>\n      <td>0</td>\n      <td>0</td>\n      <td>1</td>\n      <td>0</td>\n      <td>0</td>\n      <td>...</td>\n      <td>0</td>\n      <td>0</td>\n      <td>0</td>\n      <td>1</td>\n      <td>0</td>\n      <td>0</td>\n      <td>0</td>\n      <td>CA</td>\n      <td>9</td>\n      <td>NaN</td>\n    </tr>\n    <tr>\n      <th>470112</th>\n      <td>1</td>\n      <td>33.851389</td>\n      <td>-110.882500</td>\n      <td>2000</td>\n      <td>45.2</td>\n      <td>0</td>\n      <td>0</td>\n      <td>0</td>\n      <td>0</td>\n      <td>0</td>\n      <td>...</td>\n      <td>0</td>\n      <td>0</td>\n      <td>0</td>\n      <td>1</td>\n      <td>0</td>\n      <td>0</td>\n      <td>0</td>\n      <td>AZ</td>\n      <td>7</td>\n      <td>NaN</td>\n    </tr>\n    <tr>\n      <th>470113</th>\n      <td>2</td>\n      <td>33.641500</td>\n      <td>-84.794400</td>\n      <td>1990</td>\n      <td>112.6</td>\n      <td>0</td>\n      <td>0</td>\n      <td>1</td>\n      <td>1</td>\n      <td>0</td>\n      <td>...</td>\n      <td>0</td>\n      <td>0</td>\n      <td>0</td>\n      <td>1</td>\n      <td>0</td>\n      <td>0</td>\n      <td>0</td>\n      <td>GA</td>\n      <td>3</td>\n      <td>23.320312</td>\n    </tr>\n    <tr>\n      <th>470114</th>\n      <td>1</td>\n      <td>33.350000</td>\n      <td>-80.783300</td>\n      <td>2000</td>\n      <td>133.5</td>\n      <td>0</td>\n      <td>0</td>\n      <td>0</td>\n      <td>1</td>\n      <td>0</td>\n      <td>...</td>\n      <td>0</td>\n      <td>0</td>\n      <td>0</td>\n      <td>1</td>\n      <td>0</td>\n      <td>0</td>\n      <td>0</td>\n      <td>SC</td>\n      <td>6</td>\n      <td>27.230679</td>\n    </tr>\n    <tr>\n      <th>470115</th>\n      <td>1</td>\n      <td>45.237700</td>\n      <td>-113.919200</td>\n      <td>2000</td>\n      <td>15.7</td>\n      <td>0</td>\n      <td>0</td>\n      <td>0</td>\n      <td>0</td>\n      <td>0</td>\n      <td>...</td>\n      <td>0</td>\n      <td>0</td>\n      <td>0</td>\n      <td>0</td>\n      <td>0</td>\n      <td>0</td>\n      <td>1</td>\n      <td>ID</td>\n      <td>8</td>\n      <td>43.028169</td>\n    </tr>\n  </tbody>\n</table>\n<p>470116 rows × 116 columns</p>\n</div>"
     },
     "execution_count": 160,
     "metadata": {},
     "output_type": "execute_result"
    }
   ],
   "source": [
    "pd.merge(X_train, mean_df, on=['STATE_ABB', 'MONTH'], how=\"left\")"
   ],
   "metadata": {
    "collapsed": false
   }
  },
  {
   "cell_type": "code",
   "execution_count": 156,
   "outputs": [],
   "source": [
    "X_train = X_train.drop(columns=['STATE_ABB', 'MONTH'])"
   ],
   "metadata": {
    "collapsed": false
   }
  },
  {
   "cell_type": "markdown",
   "source": [
    "Not yet working, but stay tuned"
   ],
   "metadata": {
    "collapsed": false
   }
  }
 ],
 "metadata": {
  "kernelspec": {
   "display_name": "Python 3",
   "language": "python",
   "name": "python3"
  },
  "language_info": {
   "codemirror_mode": {
    "name": "ipython",
    "version": 2
   },
   "file_extension": ".py",
   "mimetype": "text/x-python",
   "name": "python",
   "nbconvert_exporter": "python",
   "pygments_lexer": "ipython2",
   "version": "2.7.6"
  }
 },
 "nbformat": 4,
 "nbformat_minor": 0
}
