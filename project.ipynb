{
 "cells": [
  {
   "cell_type": "code",
   "execution_count": 21,
   "metadata": {
    "collapsed": true
   },
   "outputs": [],
   "source": [
    "import numpy as np\n",
    "import pandas as pd\n",
    "import plotly.graph_objects as go\n",
    "import matplotlib.pyplot as plt\n",
    "import seaborn as sns\n",
    "import sqlite3"
   ]
  },
  {
   "cell_type": "markdown",
   "source": [
    "# EDA"
   ],
   "metadata": {
    "collapsed": false
   }
  },
  {
   "cell_type": "code",
   "execution_count": 22,
   "outputs": [],
   "source": [
    "pd.set_option('display.max_columns', None)"
   ],
   "metadata": {
    "collapsed": false
   }
  },
  {
   "cell_type": "code",
   "execution_count": 31,
   "outputs": [],
   "source": [
    "conn = sqlite3.connect('FPA_FOD_20170508.sqlite')\n",
    "raw_df = pd.read_sql_query(\"SELECT * from Fires\", conn)"
   ],
   "metadata": {
    "collapsed": false
   }
  },
  {
   "cell_type": "code",
   "execution_count": 24,
   "outputs": [],
   "source": [
    "columns_to_drop = ['OBJECTID', 'FOD_ID', 'FPA_ID', 'NWCG_REPORTING_UNIT_ID',\n",
    "                   'NWCG_REPORTING_UNIT_NAME', 'SOURCE_REPORTING_UNIT', 'SOURCE_REPORTING_UNIT_NAME', 'LOCAL_FIRE_REPORT_ID',\n",
    "                   'LOCAL_INCIDENT_ID', 'FIRE_CODE', 'FIRE_NAME', 'ICS_209_INCIDENT_NUMBER', 'ICS_209_NAME', 'MTBS_ID', 'MTBS_FIRE_NAME','COMPLEX_NAME', 'OWNER_CODE', 'COUNTY', 'FIPS_CODE', 'FIPS_NAME', \"Shape\"]\n",
    "\n",
    "# high correlation: OWNER_CODE\n",
    "# feature engineering: NWCG_REPORTING_UNIT_ID, FOD_ID"
   ],
   "metadata": {
    "collapsed": false
   }
  },
  {
   "cell_type": "markdown",
   "source": [
    "\n",
    "* missing values in DISCOVERY_TIME, check correlation to fill missing values\n",
    "* check if CONT_DATE is missing so same as DISCOVERY_DATE or if is correlated with fire size\n",
    "* feature: length of fire. discovery minus contain. wh\n",
    "* choose if date or DOY\n",
    "* State- maybe do binning. a few big states, and 'other'\n",
    "* fires occur specific DOY and specific time\n",
    "* DOY vs LONGITUDE\n",
    "* correlation stat_code and system_type\n",
    "* feature ?\n"
   ],
   "metadata": {
    "collapsed": false
   }
  },
  {
   "cell_type": "code",
   "execution_count": 26,
   "outputs": [
    {
     "data": {
      "text/plain": "'\\n* next:\\n* remove columns\\n* deal with missing values\\n* new features\\n* which features we should put our energy in\\n*\\n'"
     },
     "execution_count": 26,
     "metadata": {},
     "output_type": "execute_result"
    }
   ],
   "source": [
    "\"\"\"\n",
    "* next:\n",
    "* remove columns\n",
    "* deal with missing values\n",
    "* new features\n",
    "* which features we should put our energy in\n",
    "*\n",
    "\"\"\""
   ],
   "metadata": {
    "collapsed": false
   }
  },
  {
   "cell_type": "markdown",
   "source": [
    "Drop less important features"
   ],
   "metadata": {
    "collapsed": false
   }
  },
  {
   "cell_type": "code",
   "execution_count": 32,
   "outputs": [],
   "source": [
    "df = raw_df.drop(columns = columns_to_drop)"
   ],
   "metadata": {
    "collapsed": false
   }
  },
  {
   "cell_type": "markdown",
   "source": [
    "# Missing Values"
   ],
   "metadata": {
    "collapsed": false
   }
  },
  {
   "cell_type": "code",
   "execution_count": 33,
   "outputs": [
    {
     "name": "stdout",
     "output_type": "stream",
     "text": [
      "<class 'pandas.core.frame.DataFrame'>\n",
      "RangeIndex: 626822 entries, 0 to 626821\n",
      "Data columns (total 18 columns):\n",
      " #   Column                 Non-Null Count   Dtype  \n",
      "---  ------                 --------------   -----  \n",
      " 0   SOURCE_SYSTEM_TYPE     626822 non-null  object \n",
      " 1   SOURCE_SYSTEM          626822 non-null  object \n",
      " 2   NWCG_REPORTING_AGENCY  626822 non-null  object \n",
      " 3   FIRE_YEAR              626822 non-null  int64  \n",
      " 4   DISCOVERY_DATE         626822 non-null  float64\n",
      " 5   DISCOVERY_DOY          626822 non-null  int64  \n",
      " 6   DISCOVERY_TIME         332746 non-null  object \n",
      " 7   STAT_CAUSE_CODE        626822 non-null  float64\n",
      " 8   STAT_CAUSE_DESCR       626822 non-null  object \n",
      " 9   CONT_DATE              329734 non-null  float64\n",
      " 10  CONT_DOY               329734 non-null  float64\n",
      " 11  CONT_TIME              303098 non-null  object \n",
      " 12  FIRE_SIZE              626822 non-null  float64\n",
      " 13  FIRE_SIZE_CLASS        626822 non-null  object \n",
      " 14  LATITUDE               626822 non-null  float64\n",
      " 15  LONGITUDE              626822 non-null  float64\n",
      " 16  OWNER_DESCR            626822 non-null  object \n",
      " 17  STATE                  626822 non-null  object \n",
      "dtypes: float64(7), int64(2), object(9)\n",
      "memory usage: 86.1+ MB\n"
     ]
    }
   ],
   "source": [
    "df.info()"
   ],
   "metadata": {
    "collapsed": false
   }
  },
  {
   "cell_type": "markdown",
   "source": [
    "## Features with missing values:\n",
    "- DISCOVERY_TIME\n",
    "- CONT_DATE\n",
    "- CONT_DOY\n",
    "- CONT_TIME\n",
    "\n",
    "Their missing values are correlated with each other, along with \"LOCAL_FRIE_REPORT_ID\", \"FIRE_CODE\", \"FIRE_NAME\".\n",
    "Let's take a look at the null values of them"
   ],
   "metadata": {
    "collapsed": false
   }
  },
  {
   "cell_type": "code",
   "execution_count": 43,
   "outputs": [
    {
     "data": {
      "text/plain": "       DISCOVERY_TIME  CONT_DATE  CONT_DOY CONT_TIME FIRE_CODE  \\\n0                None        NaN       NaN      None      None   \n3                None        NaN       NaN      None      None   \n4                None        NaN       NaN      None      None   \n8                None        NaN       NaN      None      None   \n10               None        NaN       NaN      None      None   \n...               ...        ...       ...       ...       ...   \n626808           None        NaN       NaN      None      None   \n626809           None        NaN       NaN      None      None   \n626811           None        NaN       NaN      None      None   \n626820           None        NaN       NaN      None      None   \n626821           None        NaN       NaN      None      None   \n\n                        FIRE_NAME  \n0                            None  \n3                            None  \n4                            None  \n8                            None  \n10                           None  \n...                           ...  \n626808  HWY 152  E/ RD 8           \n626809                       None  \n626811                       None  \n626820  BRANCIFORTE DR  SOQUEL 5   \n626821                       None  \n\n[294076 rows x 6 columns]",
      "text/html": "<div>\n<style scoped>\n    .dataframe tbody tr th:only-of-type {\n        vertical-align: middle;\n    }\n\n    .dataframe tbody tr th {\n        vertical-align: top;\n    }\n\n    .dataframe thead th {\n        text-align: right;\n    }\n</style>\n<table border=\"1\" class=\"dataframe\">\n  <thead>\n    <tr style=\"text-align: right;\">\n      <th></th>\n      <th>DISCOVERY_TIME</th>\n      <th>CONT_DATE</th>\n      <th>CONT_DOY</th>\n      <th>CONT_TIME</th>\n      <th>FIRE_CODE</th>\n      <th>FIRE_NAME</th>\n    </tr>\n  </thead>\n  <tbody>\n    <tr>\n      <th>0</th>\n      <td>None</td>\n      <td>NaN</td>\n      <td>NaN</td>\n      <td>None</td>\n      <td>None</td>\n      <td>None</td>\n    </tr>\n    <tr>\n      <th>3</th>\n      <td>None</td>\n      <td>NaN</td>\n      <td>NaN</td>\n      <td>None</td>\n      <td>None</td>\n      <td>None</td>\n    </tr>\n    <tr>\n      <th>4</th>\n      <td>None</td>\n      <td>NaN</td>\n      <td>NaN</td>\n      <td>None</td>\n      <td>None</td>\n      <td>None</td>\n    </tr>\n    <tr>\n      <th>8</th>\n      <td>None</td>\n      <td>NaN</td>\n      <td>NaN</td>\n      <td>None</td>\n      <td>None</td>\n      <td>None</td>\n    </tr>\n    <tr>\n      <th>10</th>\n      <td>None</td>\n      <td>NaN</td>\n      <td>NaN</td>\n      <td>None</td>\n      <td>None</td>\n      <td>None</td>\n    </tr>\n    <tr>\n      <th>...</th>\n      <td>...</td>\n      <td>...</td>\n      <td>...</td>\n      <td>...</td>\n      <td>...</td>\n      <td>...</td>\n    </tr>\n    <tr>\n      <th>626808</th>\n      <td>None</td>\n      <td>NaN</td>\n      <td>NaN</td>\n      <td>None</td>\n      <td>None</td>\n      <td>HWY 152  E/ RD 8</td>\n    </tr>\n    <tr>\n      <th>626809</th>\n      <td>None</td>\n      <td>NaN</td>\n      <td>NaN</td>\n      <td>None</td>\n      <td>None</td>\n      <td>None</td>\n    </tr>\n    <tr>\n      <th>626811</th>\n      <td>None</td>\n      <td>NaN</td>\n      <td>NaN</td>\n      <td>None</td>\n      <td>None</td>\n      <td>None</td>\n    </tr>\n    <tr>\n      <th>626820</th>\n      <td>None</td>\n      <td>NaN</td>\n      <td>NaN</td>\n      <td>None</td>\n      <td>None</td>\n      <td>BRANCIFORTE DR  SOQUEL 5</td>\n    </tr>\n    <tr>\n      <th>626821</th>\n      <td>None</td>\n      <td>NaN</td>\n      <td>NaN</td>\n      <td>None</td>\n      <td>None</td>\n      <td>None</td>\n    </tr>\n  </tbody>\n</table>\n<p>294076 rows × 6 columns</p>\n</div>"
     },
     "execution_count": 43,
     "metadata": {},
     "output_type": "execute_result"
    }
   ],
   "source": [
    "discovery_time_missing = raw_df[raw_df[\"DISCOVERY_TIME\"].isnull()].filter(items = [\"DISCOVERY_TIME\", \"CONT_DATE\", \"CONT_DOY\", \"CONT_TIME\", \"LOCAL_FRIE_REPORT_ID\" , \"FIRE_CODE\", \"FIRE_NAME\"])\n",
    "discovery_time_missing"
   ],
   "metadata": {
    "collapsed": false
   }
  },
  {
   "cell_type": "code",
   "execution_count": 51,
   "outputs": [
    {
     "data": {
      "text/plain": "        CONT_DATE  CONT_DOY CONT_TIME FIRE_CODE                  FIRE_NAME\n0             NaN       NaN      None      None                       None\n3             NaN       NaN      None      None                       None\n4             NaN       NaN      None      None                       None\n6             NaN       NaN      None      None                       None\n7             NaN       NaN      None      None                       None\n...           ...       ...       ...       ...                        ...\n626809        NaN       NaN      None      None                       None\n626811        NaN       NaN      None      None                       None\n626814        NaN       NaN      None      None     MS0    0808-3310326003\n626820        NaN       NaN      None      None  BRANCIFORTE DR  SOQUEL 5 \n626821        NaN       NaN      None      None                       None\n\n[297088 rows x 5 columns]",
      "text/html": "<div>\n<style scoped>\n    .dataframe tbody tr th:only-of-type {\n        vertical-align: middle;\n    }\n\n    .dataframe tbody tr th {\n        vertical-align: top;\n    }\n\n    .dataframe thead th {\n        text-align: right;\n    }\n</style>\n<table border=\"1\" class=\"dataframe\">\n  <thead>\n    <tr style=\"text-align: right;\">\n      <th></th>\n      <th>CONT_DATE</th>\n      <th>CONT_DOY</th>\n      <th>CONT_TIME</th>\n      <th>FIRE_CODE</th>\n      <th>FIRE_NAME</th>\n    </tr>\n  </thead>\n  <tbody>\n    <tr>\n      <th>0</th>\n      <td>NaN</td>\n      <td>NaN</td>\n      <td>None</td>\n      <td>None</td>\n      <td>None</td>\n    </tr>\n    <tr>\n      <th>3</th>\n      <td>NaN</td>\n      <td>NaN</td>\n      <td>None</td>\n      <td>None</td>\n      <td>None</td>\n    </tr>\n    <tr>\n      <th>4</th>\n      <td>NaN</td>\n      <td>NaN</td>\n      <td>None</td>\n      <td>None</td>\n      <td>None</td>\n    </tr>\n    <tr>\n      <th>6</th>\n      <td>NaN</td>\n      <td>NaN</td>\n      <td>None</td>\n      <td>None</td>\n      <td>None</td>\n    </tr>\n    <tr>\n      <th>7</th>\n      <td>NaN</td>\n      <td>NaN</td>\n      <td>None</td>\n      <td>None</td>\n      <td>None</td>\n    </tr>\n    <tr>\n      <th>...</th>\n      <td>...</td>\n      <td>...</td>\n      <td>...</td>\n      <td>...</td>\n      <td>...</td>\n    </tr>\n    <tr>\n      <th>626809</th>\n      <td>NaN</td>\n      <td>NaN</td>\n      <td>None</td>\n      <td>None</td>\n      <td>None</td>\n    </tr>\n    <tr>\n      <th>626811</th>\n      <td>NaN</td>\n      <td>NaN</td>\n      <td>None</td>\n      <td>None</td>\n      <td>None</td>\n    </tr>\n    <tr>\n      <th>626814</th>\n      <td>NaN</td>\n      <td>NaN</td>\n      <td>None</td>\n      <td>None</td>\n      <td>MS0    0808-3310326003</td>\n    </tr>\n    <tr>\n      <th>626820</th>\n      <td>NaN</td>\n      <td>NaN</td>\n      <td>None</td>\n      <td>None</td>\n      <td>BRANCIFORTE DR  SOQUEL 5</td>\n    </tr>\n    <tr>\n      <th>626821</th>\n      <td>NaN</td>\n      <td>NaN</td>\n      <td>None</td>\n      <td>None</td>\n      <td>None</td>\n    </tr>\n  </tbody>\n</table>\n<p>297088 rows × 5 columns</p>\n</div>"
     },
     "execution_count": 51,
     "metadata": {},
     "output_type": "execute_result"
    }
   ],
   "source": [
    "cont_date_doy_missing = raw_df[raw_df[\"CONT_DATE\"].isnull()].filter(items = [\"LOCAL_FRIE_REPORT_ID\", \"CONT_DATE\", \"CONT_DOY\", \"CONT_TIME\", \"FIRE_CODE\", \"FIRE_NAME\"])\n",
    "cont_date_doy_missing\n"
   ],
   "metadata": {
    "collapsed": false
   }
  },
  {
   "cell_type": "code",
   "execution_count": 52,
   "outputs": [
    {
     "data": {
      "text/plain": "       CONT_TIME  CONT_DATE  CONT_DOY FIRE_CODE                  FIRE_NAME\n0           None        NaN       NaN      None                       None\n3           None        NaN       NaN      None                       None\n4           None        NaN       NaN      None                       None\n6           None        NaN       NaN      None                       None\n7           None        NaN       NaN      None                       None\n...          ...        ...       ...       ...                        ...\n626809      None        NaN       NaN      None                       None\n626811      None        NaN       NaN      None                       None\n626814      None        NaN       NaN      None     MS0    0808-3310326003\n626820      None        NaN       NaN      None  BRANCIFORTE DR  SOQUEL 5 \n626821      None        NaN       NaN      None                       None\n\n[323724 rows x 5 columns]",
      "text/html": "<div>\n<style scoped>\n    .dataframe tbody tr th:only-of-type {\n        vertical-align: middle;\n    }\n\n    .dataframe tbody tr th {\n        vertical-align: top;\n    }\n\n    .dataframe thead th {\n        text-align: right;\n    }\n</style>\n<table border=\"1\" class=\"dataframe\">\n  <thead>\n    <tr style=\"text-align: right;\">\n      <th></th>\n      <th>CONT_TIME</th>\n      <th>CONT_DATE</th>\n      <th>CONT_DOY</th>\n      <th>FIRE_CODE</th>\n      <th>FIRE_NAME</th>\n    </tr>\n  </thead>\n  <tbody>\n    <tr>\n      <th>0</th>\n      <td>None</td>\n      <td>NaN</td>\n      <td>NaN</td>\n      <td>None</td>\n      <td>None</td>\n    </tr>\n    <tr>\n      <th>3</th>\n      <td>None</td>\n      <td>NaN</td>\n      <td>NaN</td>\n      <td>None</td>\n      <td>None</td>\n    </tr>\n    <tr>\n      <th>4</th>\n      <td>None</td>\n      <td>NaN</td>\n      <td>NaN</td>\n      <td>None</td>\n      <td>None</td>\n    </tr>\n    <tr>\n      <th>6</th>\n      <td>None</td>\n      <td>NaN</td>\n      <td>NaN</td>\n      <td>None</td>\n      <td>None</td>\n    </tr>\n    <tr>\n      <th>7</th>\n      <td>None</td>\n      <td>NaN</td>\n      <td>NaN</td>\n      <td>None</td>\n      <td>None</td>\n    </tr>\n    <tr>\n      <th>...</th>\n      <td>...</td>\n      <td>...</td>\n      <td>...</td>\n      <td>...</td>\n      <td>...</td>\n    </tr>\n    <tr>\n      <th>626809</th>\n      <td>None</td>\n      <td>NaN</td>\n      <td>NaN</td>\n      <td>None</td>\n      <td>None</td>\n    </tr>\n    <tr>\n      <th>626811</th>\n      <td>None</td>\n      <td>NaN</td>\n      <td>NaN</td>\n      <td>None</td>\n      <td>None</td>\n    </tr>\n    <tr>\n      <th>626814</th>\n      <td>None</td>\n      <td>NaN</td>\n      <td>NaN</td>\n      <td>None</td>\n      <td>MS0    0808-3310326003</td>\n    </tr>\n    <tr>\n      <th>626820</th>\n      <td>None</td>\n      <td>NaN</td>\n      <td>NaN</td>\n      <td>None</td>\n      <td>BRANCIFORTE DR  SOQUEL 5</td>\n    </tr>\n    <tr>\n      <th>626821</th>\n      <td>None</td>\n      <td>NaN</td>\n      <td>NaN</td>\n      <td>None</td>\n      <td>None</td>\n    </tr>\n  </tbody>\n</table>\n<p>323724 rows × 5 columns</p>\n</div>"
     },
     "execution_count": 52,
     "metadata": {},
     "output_type": "execute_result"
    }
   ],
   "source": [
    "cont_time_missing = raw_df[raw_df[\"CONT_TIME\"].isnull()].filter(items = [\"CONT_TIME\", \"LOCAL_FRIE_REPORT_ID\", \"CONT_DATE\", \"CONT_DOY\", \"FIRE_CODE\", \"FIRE_NAME\"])\n",
    "cont_time_missing"
   ],
   "metadata": {
    "collapsed": false
   }
  },
  {
   "cell_type": "markdown",
   "source": [
    "It looks like we cant efficiently fill the missing values of one feature with the others.\n",
    "\n",
    "Also, because they are so many (46% - 51%), imputing by mean\n",
    "\n",
    "What about Linear Regression for each one, predicting their values?\n",
    "good thing to check, but before, let us pre-process the values to fit in a model\n",
    "\n"
   ],
   "metadata": {
    "collapsed": false
   }
  }
 ],
 "metadata": {
  "kernelspec": {
   "display_name": "Python 3",
   "language": "python",
   "name": "python3"
  },
  "language_info": {
   "codemirror_mode": {
    "name": "ipython",
    "version": 2
   },
   "file_extension": ".py",
   "mimetype": "text/x-python",
   "name": "python",
   "nbconvert_exporter": "python",
   "pygments_lexer": "ipython2",
   "version": "2.7.6"
  }
 },
 "nbformat": 4,
 "nbformat_minor": 0
}
