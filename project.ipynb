{
 "cells": [
  {
   "cell_type": "code",
   "execution_count": 1,
   "metadata": {
    "collapsed": true
   },
   "outputs": [],
   "source": [
    "import numpy as np\n",
    "import pandas as pd\n",
    "import plotly.graph_objects as go\n",
    "import matplotlib.pyplot as plt\n",
    "import seaborn as sns\n",
    "import sqlite3"
   ]
  },
  {
   "cell_type": "code",
   "execution_count": 2,
   "outputs": [],
   "source": [
    "conn = sqlite3.connect('FPA_FOD_20170508.sqlite')\n",
    "df = pd.read_sql_query(\"SELECT * from Fires\", conn)"
   ],
   "metadata": {
    "collapsed": false
   }
  },
  {
   "cell_type": "code",
   "execution_count": 4,
   "outputs": [
    {
     "data": {
      "text/plain": "   OBJECTID     FOD_ID                 FPA_ID SOURCE_SYSTEM_TYPE  \\\n0    463445     497959  SFO-ID0043_3101998026             NONFED   \n1   1464479  201104109               W-626311                FED   \n2   1591094  201608816      SFO-NE-2012-16029             NONFED   \n3    944726    1072277          SWRA_VA_11300             NONFED   \n4    896277    1022153          SWRA_LA_24392             NONFED   \n\n  SOURCE_SYSTEM NWCG_REPORTING_AGENCY NWCG_REPORTING_UNIT_ID  \\\n0       ST-NASF                ST/C&L                USIDIDS   \n1      DOI-WFMI                   BIA                USMTFBA   \n2       ST-NASF                ST/C&L                USNENES   \n3      ST-VAVAS                ST/C&L                USVAVAS   \n4      ST-LALAS                ST/C&L                USLALAS   \n\n          NWCG_REPORTING_UNIT_NAME SOURCE_REPORTING_UNIT  \\\n0        Idaho Department of Lands                 ID310   \n1              Fort Belknap Agency                 MTFBA   \n2  Nebraska Department of Forestry                 NENFS   \n3  Virginia Department of Forestry                VAVAS3   \n4     Louisiana Office of Forestry                LALAS1   \n\n  SOURCE_REPORTING_UNIT_NAME  ... FIRE_SIZE_CLASS   LATITUDE   LONGITUDE  \\\n0           IDS District 310  ...               B  47.600845 -116.306789   \n1        Fort Belknap Agency  ...               A  48.403300 -108.289600   \n2    Nebraska Forest Service  ...               B  40.668460  -99.089130   \n3         Farmville District  ...               B  39.000000  -78.269200   \n4             LAS District 1  ...               B  30.993300  -89.863900   \n\n  OWNER_CODE            OWNER_DESCR STATE    COUNTY FIPS_CODE FIPS_NAME  \\\n0       14.0  MISSING/NOT SPECIFIED    ID  Kootenai       055  Kootenai   \n1        8.0                PRIVATE    MT      None      None      None   \n2       14.0  MISSING/NOT SPECIFIED    NE      None      None      None   \n3       14.0  MISSING/NOT SPECIFIED    VA      None      None      None   \n4       14.0  MISSING/NOT SPECIFIED    LA      None      None      None   \n\n                                               Shape  \n0  b'\\x00\\x01\\xad\\x10\\x00\\x00pqTn\\xa2\\x13]\\xc0\\x9...  \n1  b'\\x00\\x01\\xad\\x10\\x00\\x00\\xf8:p\\xce\\x88\\x12[\\...  \n2  b'\\x00\\x01\\xad\\x10\\x00\\x00\\xe8\\xc5PN\\xb4\\xc5X\\...  \n3  b'\\x00\\x01\\xad\\x10\\x00\\x00P\\x05\\xa3\\x92:\\x91S\\...  \n4  b'\\x00\\x01\\xad\\x10\\x00\\x00\\xe8\\xc09#JwV\\xc0\\xf...  \n\n[5 rows x 39 columns]",
      "text/html": "<div>\n<style scoped>\n    .dataframe tbody tr th:only-of-type {\n        vertical-align: middle;\n    }\n\n    .dataframe tbody tr th {\n        vertical-align: top;\n    }\n\n    .dataframe thead th {\n        text-align: right;\n    }\n</style>\n<table border=\"1\" class=\"dataframe\">\n  <thead>\n    <tr style=\"text-align: right;\">\n      <th></th>\n      <th>OBJECTID</th>\n      <th>FOD_ID</th>\n      <th>FPA_ID</th>\n      <th>SOURCE_SYSTEM_TYPE</th>\n      <th>SOURCE_SYSTEM</th>\n      <th>NWCG_REPORTING_AGENCY</th>\n      <th>NWCG_REPORTING_UNIT_ID</th>\n      <th>NWCG_REPORTING_UNIT_NAME</th>\n      <th>SOURCE_REPORTING_UNIT</th>\n      <th>SOURCE_REPORTING_UNIT_NAME</th>\n      <th>...</th>\n      <th>FIRE_SIZE_CLASS</th>\n      <th>LATITUDE</th>\n      <th>LONGITUDE</th>\n      <th>OWNER_CODE</th>\n      <th>OWNER_DESCR</th>\n      <th>STATE</th>\n      <th>COUNTY</th>\n      <th>FIPS_CODE</th>\n      <th>FIPS_NAME</th>\n      <th>Shape</th>\n    </tr>\n  </thead>\n  <tbody>\n    <tr>\n      <th>0</th>\n      <td>463445</td>\n      <td>497959</td>\n      <td>SFO-ID0043_3101998026</td>\n      <td>NONFED</td>\n      <td>ST-NASF</td>\n      <td>ST/C&amp;L</td>\n      <td>USIDIDS</td>\n      <td>Idaho Department of Lands</td>\n      <td>ID310</td>\n      <td>IDS District 310</td>\n      <td>...</td>\n      <td>B</td>\n      <td>47.600845</td>\n      <td>-116.306789</td>\n      <td>14.0</td>\n      <td>MISSING/NOT SPECIFIED</td>\n      <td>ID</td>\n      <td>Kootenai</td>\n      <td>055</td>\n      <td>Kootenai</td>\n      <td>b'\\x00\\x01\\xad\\x10\\x00\\x00pqTn\\xa2\\x13]\\xc0\\x9...</td>\n    </tr>\n    <tr>\n      <th>1</th>\n      <td>1464479</td>\n      <td>201104109</td>\n      <td>W-626311</td>\n      <td>FED</td>\n      <td>DOI-WFMI</td>\n      <td>BIA</td>\n      <td>USMTFBA</td>\n      <td>Fort Belknap Agency</td>\n      <td>MTFBA</td>\n      <td>Fort Belknap Agency</td>\n      <td>...</td>\n      <td>A</td>\n      <td>48.403300</td>\n      <td>-108.289600</td>\n      <td>8.0</td>\n      <td>PRIVATE</td>\n      <td>MT</td>\n      <td>None</td>\n      <td>None</td>\n      <td>None</td>\n      <td>b'\\x00\\x01\\xad\\x10\\x00\\x00\\xf8:p\\xce\\x88\\x12[\\...</td>\n    </tr>\n    <tr>\n      <th>2</th>\n      <td>1591094</td>\n      <td>201608816</td>\n      <td>SFO-NE-2012-16029</td>\n      <td>NONFED</td>\n      <td>ST-NASF</td>\n      <td>ST/C&amp;L</td>\n      <td>USNENES</td>\n      <td>Nebraska Department of Forestry</td>\n      <td>NENFS</td>\n      <td>Nebraska Forest Service</td>\n      <td>...</td>\n      <td>B</td>\n      <td>40.668460</td>\n      <td>-99.089130</td>\n      <td>14.0</td>\n      <td>MISSING/NOT SPECIFIED</td>\n      <td>NE</td>\n      <td>None</td>\n      <td>None</td>\n      <td>None</td>\n      <td>b'\\x00\\x01\\xad\\x10\\x00\\x00\\xe8\\xc5PN\\xb4\\xc5X\\...</td>\n    </tr>\n    <tr>\n      <th>3</th>\n      <td>944726</td>\n      <td>1072277</td>\n      <td>SWRA_VA_11300</td>\n      <td>NONFED</td>\n      <td>ST-VAVAS</td>\n      <td>ST/C&amp;L</td>\n      <td>USVAVAS</td>\n      <td>Virginia Department of Forestry</td>\n      <td>VAVAS3</td>\n      <td>Farmville District</td>\n      <td>...</td>\n      <td>B</td>\n      <td>39.000000</td>\n      <td>-78.269200</td>\n      <td>14.0</td>\n      <td>MISSING/NOT SPECIFIED</td>\n      <td>VA</td>\n      <td>None</td>\n      <td>None</td>\n      <td>None</td>\n      <td>b'\\x00\\x01\\xad\\x10\\x00\\x00P\\x05\\xa3\\x92:\\x91S\\...</td>\n    </tr>\n    <tr>\n      <th>4</th>\n      <td>896277</td>\n      <td>1022153</td>\n      <td>SWRA_LA_24392</td>\n      <td>NONFED</td>\n      <td>ST-LALAS</td>\n      <td>ST/C&amp;L</td>\n      <td>USLALAS</td>\n      <td>Louisiana Office of Forestry</td>\n      <td>LALAS1</td>\n      <td>LAS District 1</td>\n      <td>...</td>\n      <td>B</td>\n      <td>30.993300</td>\n      <td>-89.863900</td>\n      <td>14.0</td>\n      <td>MISSING/NOT SPECIFIED</td>\n      <td>LA</td>\n      <td>None</td>\n      <td>None</td>\n      <td>None</td>\n      <td>b'\\x00\\x01\\xad\\x10\\x00\\x00\\xe8\\xc09#JwV\\xc0\\xf...</td>\n    </tr>\n  </tbody>\n</table>\n<p>5 rows × 39 columns</p>\n</div>"
     },
     "execution_count": 4,
     "metadata": {},
     "output_type": "execute_result"
    }
   ],
   "source": [
    "df.head()"
   ],
   "metadata": {
    "collapsed": false
   }
  }
 ],
 "metadata": {
  "kernelspec": {
   "display_name": "Python 3",
   "language": "python",
   "name": "python3"
  },
  "language_info": {
   "codemirror_mode": {
    "name": "ipython",
    "version": 2
   },
   "file_extension": ".py",
   "mimetype": "text/x-python",
   "name": "python",
   "nbconvert_exporter": "python",
   "pygments_lexer": "ipython2",
   "version": "2.7.6"
  }
 },
 "nbformat": 4,
 "nbformat_minor": 0
}
